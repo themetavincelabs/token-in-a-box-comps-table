{
 "cells": [
  {
   "cell_type": "code",
   "execution_count": 1,
   "id": "6b362918",
   "metadata": {},
   "outputs": [],
   "source": [
    "###IMPORT LIBRARIES###\n",
    "import matplotlib.pyplot as plt\n",
    "import numpy as np\n",
    "import pandas as pd\n",
    "#import json #json encoder\n",
    "import requests"
   ]
  },
  {
   "cell_type": "code",
   "execution_count": 2,
   "id": "6777fe81",
   "metadata": {},
   "outputs": [
    {
     "name": "stdout",
     "output_type": "stream",
     "text": [
      "200\n"
     ]
    }
   ],
   "source": [
    "response = requests.get(\"https://api.coingecko.com/api/v3/ping\")\n",
    "print(response.status_code)"
   ]
  },
  {
   "cell_type": "code",
   "execution_count": 33,
   "id": "3e8702b2",
   "metadata": {},
   "outputs": [],
   "source": [
    "#coinlist\n",
    "#https://api.coingecko.com/api/v3/coins/list"
   ]
  },
  {
   "cell_type": "code",
   "execution_count": 3,
   "id": "e9cca8b4",
   "metadata": {},
   "outputs": [
    {
     "name": "stdout",
     "output_type": "stream",
     "text": [
      "Requirement already satisfied: pycoingecko in c:\\users\\vincentramsey\\anaconda3\\lib\\site-packages (3.1.0)\n",
      "Requirement already satisfied: requests in c:\\users\\vincentramsey\\anaconda3\\lib\\site-packages (from pycoingecko) (2.28.1)\n",
      "Requirement already satisfied: charset-normalizer<3,>=2 in c:\\users\\vincentramsey\\anaconda3\\lib\\site-packages (from requests->pycoingecko) (2.0.4)\n",
      "Requirement already satisfied: urllib3<1.27,>=1.21.1 in c:\\users\\vincentramsey\\anaconda3\\lib\\site-packages (from requests->pycoingecko) (1.26.11)\n",
      "Requirement already satisfied: certifi>=2017.4.17 in c:\\users\\vincentramsey\\anaconda3\\lib\\site-packages (from requests->pycoingecko) (2022.9.14)\n",
      "Requirement already satisfied: idna<4,>=2.5 in c:\\users\\vincentramsey\\anaconda3\\lib\\site-packages (from requests->pycoingecko) (3.3)\n",
      "Note: you may need to restart the kernel to use updated packages.\n"
     ]
    }
   ],
   "source": [
    "pip install -U pycoingecko\n"
   ]
  },
  {
   "cell_type": "code",
   "execution_count": 4,
   "id": "926b61e2",
   "metadata": {},
   "outputs": [],
   "source": [
    "from pycoingecko import CoinGeckoAPI\n",
    "cg = CoinGeckoAPI() "
   ]
  },
  {
   "cell_type": "markdown",
   "id": "bdffaa0d",
   "metadata": {},
   "source": [
    "<h3>Some Basic User Inputs For Valuation<h3>"
   ]
  },
  {
   "cell_type": "code",
   "execution_count": 5,
   "id": "951f04a6",
   "metadata": {},
   "outputs": [
    {
     "name": "stdout",
     "output_type": "stream",
     "text": [
      "How many FD tokens? Enter whole number 1000000000\n"
     ]
    }
   ],
   "source": [
    "fdTokens = int(input(\"How many FD tokens? Enter whole number \"))"
   ]
  },
  {
   "cell_type": "code",
   "execution_count": 6,
   "id": "354d4b01",
   "metadata": {},
   "outputs": [
    {
     "name": "stdout",
     "output_type": "stream",
     "text": [
      "What is the NFT Marketcap? 3600000\n"
     ]
    }
   ],
   "source": [
    "clientNFTVal = int(input(\"What is the NFT Marketcap? \"))"
   ]
  },
  {
   "cell_type": "markdown",
   "id": "6939e995",
   "metadata": {},
   "source": [
    "<h3>Pull Singular Token Price<h3>"
   ]
  },
  {
   "cell_type": "code",
   "execution_count": 7,
   "id": "037cd9b9",
   "metadata": {},
   "outputs": [
    {
     "name": "stdout",
     "output_type": "stream",
     "text": [
      "5.93\n"
     ]
    }
   ],
   "source": [
    "#pull the apecoin price dictionary\n",
    "apecoin = cg.get_price(ids='apecoin', vs_currencies='usd')\n",
    "#drill into nested dictionary to isolate the price\n",
    "apecoinPrice = float(apecoin['apecoin']['usd'])\n",
    "print(apecoinPrice)"
   ]
  },
  {
   "cell_type": "markdown",
   "id": "c543fb14",
   "metadata": {},
   "source": [
    "<h3>Pull Comps Table with Market Data<h3>"
   ]
  },
  {
   "cell_type": "code",
   "execution_count": 8,
   "id": "36c232bd",
   "metadata": {},
   "outputs": [],
   "source": [
    "#pulls from /coins/markets (List all supported coins price, market cap, volume, and market related data)\n",
    "#reference json https://api.coingecko.com/api/v3/coins/markets?vs_currency=usd&ids=apecoin&order=market_cap_desc&per_page=100&page=1&sparkline=false\n",
    "coinMarketData = cg.get_coins_markets(ids='apecoin,the-sandbox,decentraland,metahero,wolf-game-wool,zed-run,decentral-games,ethereum-name-service',\n",
    "    vs_currency='usd')\n",
    "price_df = pd.DataFrame(coinMarketData)\n",
    "#rice_df.head(10)"
   ]
  },
  {
   "cell_type": "code",
   "execution_count": 9,
   "id": "2b49103b",
   "metadata": {},
   "outputs": [
    {
     "ename": "RetryError",
     "evalue": "HTTPSConnectionPool(host='api.coingecko.com', port=443): Max retries exceeded with url: /api/v3/coins/markets?ids=apecoin&vs_currency=usd (Caused by ResponseError('too many 504 error responses'))",
     "output_type": "error",
     "traceback": [
      "\u001b[1;31m---------------------------------------------------------------------------\u001b[0m",
      "\u001b[1;31mMaxRetryError\u001b[0m                             Traceback (most recent call last)",
      "\u001b[1;32m~\\Anaconda3\\lib\\site-packages\\requests\\adapters.py\u001b[0m in \u001b[0;36msend\u001b[1;34m(self, request, stream, timeout, verify, cert, proxies)\u001b[0m\n\u001b[0;32m    488\u001b[0m             \u001b[1;32mif\u001b[0m \u001b[1;32mnot\u001b[0m \u001b[0mchunked\u001b[0m\u001b[1;33m:\u001b[0m\u001b[1;33m\u001b[0m\u001b[1;33m\u001b[0m\u001b[0m\n\u001b[1;32m--> 489\u001b[1;33m                 resp = conn.urlopen(\n\u001b[0m\u001b[0;32m    490\u001b[0m                     \u001b[0mmethod\u001b[0m\u001b[1;33m=\u001b[0m\u001b[0mrequest\u001b[0m\u001b[1;33m.\u001b[0m\u001b[0mmethod\u001b[0m\u001b[1;33m,\u001b[0m\u001b[1;33m\u001b[0m\u001b[1;33m\u001b[0m\u001b[0m\n",
      "\u001b[1;32m~\\Anaconda3\\lib\\site-packages\\urllib3\\connectionpool.py\u001b[0m in \u001b[0;36murlopen\u001b[1;34m(self, method, url, body, headers, retries, redirect, assert_same_host, timeout, pool_timeout, release_conn, chunked, body_pos, **response_kw)\u001b[0m\n\u001b[0;32m    877\u001b[0m             \u001b[0mlog\u001b[0m\u001b[1;33m.\u001b[0m\u001b[0mdebug\u001b[0m\u001b[1;33m(\u001b[0m\u001b[1;34m\"Retry: %s\"\u001b[0m\u001b[1;33m,\u001b[0m \u001b[0murl\u001b[0m\u001b[1;33m)\u001b[0m\u001b[1;33m\u001b[0m\u001b[1;33m\u001b[0m\u001b[0m\n\u001b[1;32m--> 878\u001b[1;33m             return self.urlopen(\n\u001b[0m\u001b[0;32m    879\u001b[0m                 \u001b[0mmethod\u001b[0m\u001b[1;33m,\u001b[0m\u001b[1;33m\u001b[0m\u001b[1;33m\u001b[0m\u001b[0m\n",
      "\u001b[1;32m~\\Anaconda3\\lib\\site-packages\\urllib3\\connectionpool.py\u001b[0m in \u001b[0;36murlopen\u001b[1;34m(self, method, url, body, headers, retries, redirect, assert_same_host, timeout, pool_timeout, release_conn, chunked, body_pos, **response_kw)\u001b[0m\n\u001b[0;32m    877\u001b[0m             \u001b[0mlog\u001b[0m\u001b[1;33m.\u001b[0m\u001b[0mdebug\u001b[0m\u001b[1;33m(\u001b[0m\u001b[1;34m\"Retry: %s\"\u001b[0m\u001b[1;33m,\u001b[0m \u001b[0murl\u001b[0m\u001b[1;33m)\u001b[0m\u001b[1;33m\u001b[0m\u001b[1;33m\u001b[0m\u001b[0m\n\u001b[1;32m--> 878\u001b[1;33m             return self.urlopen(\n\u001b[0m\u001b[0;32m    879\u001b[0m                 \u001b[0mmethod\u001b[0m\u001b[1;33m,\u001b[0m\u001b[1;33m\u001b[0m\u001b[1;33m\u001b[0m\u001b[0m\n",
      "\u001b[1;32m~\\Anaconda3\\lib\\site-packages\\urllib3\\connectionpool.py\u001b[0m in \u001b[0;36murlopen\u001b[1;34m(self, method, url, body, headers, retries, redirect, assert_same_host, timeout, pool_timeout, release_conn, chunked, body_pos, **response_kw)\u001b[0m\n\u001b[0;32m    877\u001b[0m             \u001b[0mlog\u001b[0m\u001b[1;33m.\u001b[0m\u001b[0mdebug\u001b[0m\u001b[1;33m(\u001b[0m\u001b[1;34m\"Retry: %s\"\u001b[0m\u001b[1;33m,\u001b[0m \u001b[0murl\u001b[0m\u001b[1;33m)\u001b[0m\u001b[1;33m\u001b[0m\u001b[1;33m\u001b[0m\u001b[0m\n\u001b[1;32m--> 878\u001b[1;33m             return self.urlopen(\n\u001b[0m\u001b[0;32m    879\u001b[0m                 \u001b[0mmethod\u001b[0m\u001b[1;33m,\u001b[0m\u001b[1;33m\u001b[0m\u001b[1;33m\u001b[0m\u001b[0m\n",
      "\u001b[1;32m~\\Anaconda3\\lib\\site-packages\\urllib3\\connectionpool.py\u001b[0m in \u001b[0;36murlopen\u001b[1;34m(self, method, url, body, headers, retries, redirect, assert_same_host, timeout, pool_timeout, release_conn, chunked, body_pos, **response_kw)\u001b[0m\n\u001b[0;32m    877\u001b[0m             \u001b[0mlog\u001b[0m\u001b[1;33m.\u001b[0m\u001b[0mdebug\u001b[0m\u001b[1;33m(\u001b[0m\u001b[1;34m\"Retry: %s\"\u001b[0m\u001b[1;33m,\u001b[0m \u001b[0murl\u001b[0m\u001b[1;33m)\u001b[0m\u001b[1;33m\u001b[0m\u001b[1;33m\u001b[0m\u001b[0m\n\u001b[1;32m--> 878\u001b[1;33m             return self.urlopen(\n\u001b[0m\u001b[0;32m    879\u001b[0m                 \u001b[0mmethod\u001b[0m\u001b[1;33m,\u001b[0m\u001b[1;33m\u001b[0m\u001b[1;33m\u001b[0m\u001b[0m\n",
      "\u001b[1;32m~\\Anaconda3\\lib\\site-packages\\urllib3\\connectionpool.py\u001b[0m in \u001b[0;36murlopen\u001b[1;34m(self, method, url, body, headers, retries, redirect, assert_same_host, timeout, pool_timeout, release_conn, chunked, body_pos, **response_kw)\u001b[0m\n\u001b[0;32m    877\u001b[0m             \u001b[0mlog\u001b[0m\u001b[1;33m.\u001b[0m\u001b[0mdebug\u001b[0m\u001b[1;33m(\u001b[0m\u001b[1;34m\"Retry: %s\"\u001b[0m\u001b[1;33m,\u001b[0m \u001b[0murl\u001b[0m\u001b[1;33m)\u001b[0m\u001b[1;33m\u001b[0m\u001b[1;33m\u001b[0m\u001b[0m\n\u001b[1;32m--> 878\u001b[1;33m             return self.urlopen(\n\u001b[0m\u001b[0;32m    879\u001b[0m                 \u001b[0mmethod\u001b[0m\u001b[1;33m,\u001b[0m\u001b[1;33m\u001b[0m\u001b[1;33m\u001b[0m\u001b[0m\n",
      "\u001b[1;32m~\\Anaconda3\\lib\\site-packages\\urllib3\\connectionpool.py\u001b[0m in \u001b[0;36murlopen\u001b[1;34m(self, method, url, body, headers, retries, redirect, assert_same_host, timeout, pool_timeout, release_conn, chunked, body_pos, **response_kw)\u001b[0m\n\u001b[0;32m    867\u001b[0m             \u001b[1;32mtry\u001b[0m\u001b[1;33m:\u001b[0m\u001b[1;33m\u001b[0m\u001b[1;33m\u001b[0m\u001b[0m\n\u001b[1;32m--> 868\u001b[1;33m                 \u001b[0mretries\u001b[0m \u001b[1;33m=\u001b[0m \u001b[0mretries\u001b[0m\u001b[1;33m.\u001b[0m\u001b[0mincrement\u001b[0m\u001b[1;33m(\u001b[0m\u001b[0mmethod\u001b[0m\u001b[1;33m,\u001b[0m \u001b[0murl\u001b[0m\u001b[1;33m,\u001b[0m \u001b[0mresponse\u001b[0m\u001b[1;33m=\u001b[0m\u001b[0mresponse\u001b[0m\u001b[1;33m,\u001b[0m \u001b[0m_pool\u001b[0m\u001b[1;33m=\u001b[0m\u001b[0mself\u001b[0m\u001b[1;33m)\u001b[0m\u001b[1;33m\u001b[0m\u001b[1;33m\u001b[0m\u001b[0m\n\u001b[0m\u001b[0;32m    869\u001b[0m             \u001b[1;32mexcept\u001b[0m \u001b[0mMaxRetryError\u001b[0m\u001b[1;33m:\u001b[0m\u001b[1;33m\u001b[0m\u001b[1;33m\u001b[0m\u001b[0m\n",
      "\u001b[1;32m~\\Anaconda3\\lib\\site-packages\\urllib3\\util\\retry.py\u001b[0m in \u001b[0;36mincrement\u001b[1;34m(self, method, url, response, error, _pool, _stacktrace)\u001b[0m\n\u001b[0;32m    591\u001b[0m         \u001b[1;32mif\u001b[0m \u001b[0mnew_retry\u001b[0m\u001b[1;33m.\u001b[0m\u001b[0mis_exhausted\u001b[0m\u001b[1;33m(\u001b[0m\u001b[1;33m)\u001b[0m\u001b[1;33m:\u001b[0m\u001b[1;33m\u001b[0m\u001b[1;33m\u001b[0m\u001b[0m\n\u001b[1;32m--> 592\u001b[1;33m             \u001b[1;32mraise\u001b[0m \u001b[0mMaxRetryError\u001b[0m\u001b[1;33m(\u001b[0m\u001b[0m_pool\u001b[0m\u001b[1;33m,\u001b[0m \u001b[0murl\u001b[0m\u001b[1;33m,\u001b[0m \u001b[0merror\u001b[0m \u001b[1;32mor\u001b[0m \u001b[0mResponseError\u001b[0m\u001b[1;33m(\u001b[0m\u001b[0mcause\u001b[0m\u001b[1;33m)\u001b[0m\u001b[1;33m)\u001b[0m\u001b[1;33m\u001b[0m\u001b[1;33m\u001b[0m\u001b[0m\n\u001b[0m\u001b[0;32m    593\u001b[0m \u001b[1;33m\u001b[0m\u001b[0m\n",
      "\u001b[1;31mMaxRetryError\u001b[0m: HTTPSConnectionPool(host='api.coingecko.com', port=443): Max retries exceeded with url: /api/v3/coins/markets?ids=apecoin&vs_currency=usd (Caused by ResponseError('too many 504 error responses'))",
      "\nDuring handling of the above exception, another exception occurred:\n",
      "\u001b[1;31mRetryError\u001b[0m                                Traceback (most recent call last)",
      "\u001b[1;32m~\\AppData\\Local\\Temp\\ipykernel_4700\\641403538.py\u001b[0m in \u001b[0;36m<module>\u001b[1;34m\u001b[0m\n\u001b[0;32m      1\u001b[0m \u001b[1;31m#Token FDMC Pulls\u001b[0m\u001b[1;33m\u001b[0m\u001b[1;33m\u001b[0m\u001b[0m\n\u001b[1;32m----> 2\u001b[1;33m \u001b[0mapecoinFDMC\u001b[0m \u001b[1;33m=\u001b[0m \u001b[0mcg\u001b[0m\u001b[1;33m.\u001b[0m\u001b[0mget_coins_markets\u001b[0m\u001b[1;33m(\u001b[0m\u001b[0mids\u001b[0m\u001b[1;33m=\u001b[0m\u001b[1;34m'apecoin'\u001b[0m\u001b[1;33m,\u001b[0m \u001b[0mvs_currency\u001b[0m\u001b[1;33m=\u001b[0m\u001b[1;34m'usd'\u001b[0m\u001b[1;33m)\u001b[0m\u001b[1;33m\u001b[0m\u001b[1;33m\u001b[0m\u001b[0m\n\u001b[0m\u001b[0;32m      3\u001b[0m \u001b[0mapecoinFDMC\u001b[0m \u001b[1;33m=\u001b[0m \u001b[0mapecoinFDMC\u001b[0m\u001b[1;33m[\u001b[0m\u001b[1;36m0\u001b[0m\u001b[1;33m]\u001b[0m\u001b[1;33m[\u001b[0m\u001b[1;34m'fully_diluted_valuation'\u001b[0m\u001b[1;33m]\u001b[0m\u001b[1;33m\u001b[0m\u001b[1;33m\u001b[0m\u001b[0m\n\u001b[0;32m      4\u001b[0m \u001b[1;33m\u001b[0m\u001b[0m\n\u001b[0;32m      5\u001b[0m \u001b[0msandFDMC\u001b[0m \u001b[1;33m=\u001b[0m \u001b[0mcg\u001b[0m\u001b[1;33m.\u001b[0m\u001b[0mget_coins_markets\u001b[0m\u001b[1;33m(\u001b[0m\u001b[0mids\u001b[0m\u001b[1;33m=\u001b[0m\u001b[1;34m'the-sandbox'\u001b[0m\u001b[1;33m,\u001b[0m \u001b[0mvs_currency\u001b[0m\u001b[1;33m=\u001b[0m\u001b[1;34m'usd'\u001b[0m\u001b[1;33m)\u001b[0m\u001b[1;33m\u001b[0m\u001b[1;33m\u001b[0m\u001b[0m\n",
      "\u001b[1;32m~\\Anaconda3\\lib\\site-packages\\pycoingecko\\utils.py\u001b[0m in \u001b[0;36minput_args\u001b[1;34m(*args, **kwargs)\u001b[0m\n\u001b[0;32m     10\u001b[0m         \u001b[0margs\u001b[0m \u001b[1;33m=\u001b[0m \u001b[1;33m[\u001b[0m\u001b[0marg_preprocessing\u001b[0m\u001b[1;33m(\u001b[0m\u001b[0mv\u001b[0m\u001b[1;33m)\u001b[0m \u001b[1;32mfor\u001b[0m \u001b[0mv\u001b[0m \u001b[1;32min\u001b[0m \u001b[0margs\u001b[0m\u001b[1;33m]\u001b[0m\u001b[1;33m\u001b[0m\u001b[1;33m\u001b[0m\u001b[0m\n\u001b[0;32m     11\u001b[0m \u001b[1;33m\u001b[0m\u001b[0m\n\u001b[1;32m---> 12\u001b[1;33m         \u001b[1;32mreturn\u001b[0m \u001b[0mfunc\u001b[0m\u001b[1;33m(\u001b[0m\u001b[1;33m*\u001b[0m\u001b[0margs\u001b[0m\u001b[1;33m,\u001b[0m \u001b[1;33m**\u001b[0m\u001b[0mkwargs\u001b[0m\u001b[1;33m)\u001b[0m\u001b[1;33m\u001b[0m\u001b[1;33m\u001b[0m\u001b[0m\n\u001b[0m\u001b[0;32m     13\u001b[0m \u001b[1;33m\u001b[0m\u001b[0m\n\u001b[0;32m     14\u001b[0m     \u001b[1;32mreturn\u001b[0m \u001b[0minput_args\u001b[0m\u001b[1;33m\u001b[0m\u001b[1;33m\u001b[0m\u001b[0m\n",
      "\u001b[1;32m~\\Anaconda3\\lib\\site-packages\\pycoingecko\\api.py\u001b[0m in \u001b[0;36mget_coins_markets\u001b[1;34m(self, vs_currency, **kwargs)\u001b[0m\n\u001b[0;32m    140\u001b[0m         \u001b[0mapi_url\u001b[0m \u001b[1;33m=\u001b[0m \u001b[0mself\u001b[0m\u001b[1;33m.\u001b[0m\u001b[0m__api_url_params\u001b[0m\u001b[1;33m(\u001b[0m\u001b[0mapi_url\u001b[0m\u001b[1;33m,\u001b[0m \u001b[0mkwargs\u001b[0m\u001b[1;33m)\u001b[0m\u001b[1;33m\u001b[0m\u001b[1;33m\u001b[0m\u001b[0m\n\u001b[0;32m    141\u001b[0m \u001b[1;33m\u001b[0m\u001b[0m\n\u001b[1;32m--> 142\u001b[1;33m         \u001b[1;32mreturn\u001b[0m \u001b[0mself\u001b[0m\u001b[1;33m.\u001b[0m\u001b[0m__request\u001b[0m\u001b[1;33m(\u001b[0m\u001b[0mapi_url\u001b[0m\u001b[1;33m)\u001b[0m\u001b[1;33m\u001b[0m\u001b[1;33m\u001b[0m\u001b[0m\n\u001b[0m\u001b[0;32m    143\u001b[0m \u001b[1;33m\u001b[0m\u001b[0m\n\u001b[0;32m    144\u001b[0m     \u001b[1;33m@\u001b[0m\u001b[0mfunc_args_preprocessing\u001b[0m\u001b[1;33m\u001b[0m\u001b[1;33m\u001b[0m\u001b[0m\n",
      "\u001b[1;32m~\\Anaconda3\\lib\\site-packages\\pycoingecko\\api.py\u001b[0m in \u001b[0;36m__request\u001b[1;34m(self, url)\u001b[0m\n\u001b[0;32m     27\u001b[0m         \u001b[1;31m# print(url)\u001b[0m\u001b[1;33m\u001b[0m\u001b[1;33m\u001b[0m\u001b[0m\n\u001b[0;32m     28\u001b[0m         \u001b[1;32mtry\u001b[0m\u001b[1;33m:\u001b[0m\u001b[1;33m\u001b[0m\u001b[1;33m\u001b[0m\u001b[0m\n\u001b[1;32m---> 29\u001b[1;33m             \u001b[0mresponse\u001b[0m \u001b[1;33m=\u001b[0m \u001b[0mself\u001b[0m\u001b[1;33m.\u001b[0m\u001b[0msession\u001b[0m\u001b[1;33m.\u001b[0m\u001b[0mget\u001b[0m\u001b[1;33m(\u001b[0m\u001b[0murl\u001b[0m\u001b[1;33m,\u001b[0m \u001b[0mtimeout\u001b[0m\u001b[1;33m=\u001b[0m\u001b[0mself\u001b[0m\u001b[1;33m.\u001b[0m\u001b[0mrequest_timeout\u001b[0m\u001b[1;33m)\u001b[0m\u001b[1;33m\u001b[0m\u001b[1;33m\u001b[0m\u001b[0m\n\u001b[0m\u001b[0;32m     30\u001b[0m         \u001b[1;32mexcept\u001b[0m \u001b[0mrequests\u001b[0m\u001b[1;33m.\u001b[0m\u001b[0mexceptions\u001b[0m\u001b[1;33m.\u001b[0m\u001b[0mRequestException\u001b[0m\u001b[1;33m:\u001b[0m\u001b[1;33m\u001b[0m\u001b[1;33m\u001b[0m\u001b[0m\n\u001b[0;32m     31\u001b[0m             \u001b[1;32mraise\u001b[0m\u001b[1;33m\u001b[0m\u001b[1;33m\u001b[0m\u001b[0m\n",
      "\u001b[1;32m~\\Anaconda3\\lib\\site-packages\\requests\\sessions.py\u001b[0m in \u001b[0;36mget\u001b[1;34m(self, url, **kwargs)\u001b[0m\n\u001b[0;32m    598\u001b[0m \u001b[1;33m\u001b[0m\u001b[0m\n\u001b[0;32m    599\u001b[0m         \u001b[0mkwargs\u001b[0m\u001b[1;33m.\u001b[0m\u001b[0msetdefault\u001b[0m\u001b[1;33m(\u001b[0m\u001b[1;34m\"allow_redirects\"\u001b[0m\u001b[1;33m,\u001b[0m \u001b[1;32mTrue\u001b[0m\u001b[1;33m)\u001b[0m\u001b[1;33m\u001b[0m\u001b[1;33m\u001b[0m\u001b[0m\n\u001b[1;32m--> 600\u001b[1;33m         \u001b[1;32mreturn\u001b[0m \u001b[0mself\u001b[0m\u001b[1;33m.\u001b[0m\u001b[0mrequest\u001b[0m\u001b[1;33m(\u001b[0m\u001b[1;34m\"GET\"\u001b[0m\u001b[1;33m,\u001b[0m \u001b[0murl\u001b[0m\u001b[1;33m,\u001b[0m \u001b[1;33m**\u001b[0m\u001b[0mkwargs\u001b[0m\u001b[1;33m)\u001b[0m\u001b[1;33m\u001b[0m\u001b[1;33m\u001b[0m\u001b[0m\n\u001b[0m\u001b[0;32m    601\u001b[0m \u001b[1;33m\u001b[0m\u001b[0m\n\u001b[0;32m    602\u001b[0m     \u001b[1;32mdef\u001b[0m \u001b[0moptions\u001b[0m\u001b[1;33m(\u001b[0m\u001b[0mself\u001b[0m\u001b[1;33m,\u001b[0m \u001b[0murl\u001b[0m\u001b[1;33m,\u001b[0m \u001b[1;33m**\u001b[0m\u001b[0mkwargs\u001b[0m\u001b[1;33m)\u001b[0m\u001b[1;33m:\u001b[0m\u001b[1;33m\u001b[0m\u001b[1;33m\u001b[0m\u001b[0m\n",
      "\u001b[1;32m~\\Anaconda3\\lib\\site-packages\\requests\\sessions.py\u001b[0m in \u001b[0;36mrequest\u001b[1;34m(self, method, url, params, data, headers, cookies, files, auth, timeout, allow_redirects, proxies, hooks, stream, verify, cert, json)\u001b[0m\n\u001b[0;32m    585\u001b[0m         }\n\u001b[0;32m    586\u001b[0m         \u001b[0msend_kwargs\u001b[0m\u001b[1;33m.\u001b[0m\u001b[0mupdate\u001b[0m\u001b[1;33m(\u001b[0m\u001b[0msettings\u001b[0m\u001b[1;33m)\u001b[0m\u001b[1;33m\u001b[0m\u001b[1;33m\u001b[0m\u001b[0m\n\u001b[1;32m--> 587\u001b[1;33m         \u001b[0mresp\u001b[0m \u001b[1;33m=\u001b[0m \u001b[0mself\u001b[0m\u001b[1;33m.\u001b[0m\u001b[0msend\u001b[0m\u001b[1;33m(\u001b[0m\u001b[0mprep\u001b[0m\u001b[1;33m,\u001b[0m \u001b[1;33m**\u001b[0m\u001b[0msend_kwargs\u001b[0m\u001b[1;33m)\u001b[0m\u001b[1;33m\u001b[0m\u001b[1;33m\u001b[0m\u001b[0m\n\u001b[0m\u001b[0;32m    588\u001b[0m \u001b[1;33m\u001b[0m\u001b[0m\n\u001b[0;32m    589\u001b[0m         \u001b[1;32mreturn\u001b[0m \u001b[0mresp\u001b[0m\u001b[1;33m\u001b[0m\u001b[1;33m\u001b[0m\u001b[0m\n",
      "\u001b[1;32m~\\Anaconda3\\lib\\site-packages\\requests\\sessions.py\u001b[0m in \u001b[0;36msend\u001b[1;34m(self, request, **kwargs)\u001b[0m\n\u001b[0;32m    699\u001b[0m \u001b[1;33m\u001b[0m\u001b[0m\n\u001b[0;32m    700\u001b[0m         \u001b[1;31m# Send the request\u001b[0m\u001b[1;33m\u001b[0m\u001b[1;33m\u001b[0m\u001b[0m\n\u001b[1;32m--> 701\u001b[1;33m         \u001b[0mr\u001b[0m \u001b[1;33m=\u001b[0m \u001b[0madapter\u001b[0m\u001b[1;33m.\u001b[0m\u001b[0msend\u001b[0m\u001b[1;33m(\u001b[0m\u001b[0mrequest\u001b[0m\u001b[1;33m,\u001b[0m \u001b[1;33m**\u001b[0m\u001b[0mkwargs\u001b[0m\u001b[1;33m)\u001b[0m\u001b[1;33m\u001b[0m\u001b[1;33m\u001b[0m\u001b[0m\n\u001b[0m\u001b[0;32m    702\u001b[0m \u001b[1;33m\u001b[0m\u001b[0m\n\u001b[0;32m    703\u001b[0m         \u001b[1;31m# Total elapsed time of the request (approximately)\u001b[0m\u001b[1;33m\u001b[0m\u001b[1;33m\u001b[0m\u001b[0m\n",
      "\u001b[1;32m~\\Anaconda3\\lib\\site-packages\\requests\\adapters.py\u001b[0m in \u001b[0;36msend\u001b[1;34m(self, request, stream, timeout, verify, cert, proxies)\u001b[0m\n\u001b[0;32m    554\u001b[0m \u001b[1;33m\u001b[0m\u001b[0m\n\u001b[0;32m    555\u001b[0m             \u001b[1;32mif\u001b[0m \u001b[0misinstance\u001b[0m\u001b[1;33m(\u001b[0m\u001b[0me\u001b[0m\u001b[1;33m.\u001b[0m\u001b[0mreason\u001b[0m\u001b[1;33m,\u001b[0m \u001b[0mResponseError\u001b[0m\u001b[1;33m)\u001b[0m\u001b[1;33m:\u001b[0m\u001b[1;33m\u001b[0m\u001b[1;33m\u001b[0m\u001b[0m\n\u001b[1;32m--> 556\u001b[1;33m                 \u001b[1;32mraise\u001b[0m \u001b[0mRetryError\u001b[0m\u001b[1;33m(\u001b[0m\u001b[0me\u001b[0m\u001b[1;33m,\u001b[0m \u001b[0mrequest\u001b[0m\u001b[1;33m=\u001b[0m\u001b[0mrequest\u001b[0m\u001b[1;33m)\u001b[0m\u001b[1;33m\u001b[0m\u001b[1;33m\u001b[0m\u001b[0m\n\u001b[0m\u001b[0;32m    557\u001b[0m \u001b[1;33m\u001b[0m\u001b[0m\n\u001b[0;32m    558\u001b[0m             \u001b[1;32mif\u001b[0m \u001b[0misinstance\u001b[0m\u001b[1;33m(\u001b[0m\u001b[0me\u001b[0m\u001b[1;33m.\u001b[0m\u001b[0mreason\u001b[0m\u001b[1;33m,\u001b[0m \u001b[0m_ProxyError\u001b[0m\u001b[1;33m)\u001b[0m\u001b[1;33m:\u001b[0m\u001b[1;33m\u001b[0m\u001b[1;33m\u001b[0m\u001b[0m\n",
      "\u001b[1;31mRetryError\u001b[0m: HTTPSConnectionPool(host='api.coingecko.com', port=443): Max retries exceeded with url: /api/v3/coins/markets?ids=apecoin&vs_currency=usd (Caused by ResponseError('too many 504 error responses'))"
     ]
    }
   ],
   "source": [
    "#Token FDMC Pulls\n",
    "apecoinFDMC = cg.get_coins_markets(ids='apecoin', vs_currency='usd')\n",
    "apecoinFDMC = apecoinFDMC[0]['fully_diluted_valuation']\n",
    "\n",
    "sandFDMC = cg.get_coins_markets(ids='the-sandbox', vs_currency='usd')\n",
    "sandFDMC = sandFDMC[0]['fully_diluted_valuation']\n",
    "\n",
    "manaFDMC = cg.get_coins_markets(ids='decentraland', vs_currency='usd')\n",
    "manaFDMC = manaFDMC[0]['fully_diluted_valuation']\n",
    "\n",
    "raiderFDMC = cg.get_coins_markets(ids='crypto-raiders', vs_currency='usd')\n",
    "raiderFDMC = raiderFDMC[0]['fully_diluted_valuation']\n",
    "\n",
    "zedFDMC = cg.get_coins_markets(ids='zed-run', vs_currency='usd')\n",
    "zedFDMC = zedFDMC[0]['fully_diluted_valuation']\n",
    "\n",
    "dgFDMC = cg.get_coins_markets(ids='decentral-games', vs_currency='usd')\n",
    "dgFDMC = dgFDMC[0]['fully_diluted_valuation']\n",
    "\n",
    "ensFDMC = cg.get_coins_markets(ids='ethereum-name-service', vs_currency='usd')\n",
    "ensFDMC = ensFDMC[0]['fully_diluted_valuation']\n",
    "\n",
    "woolFDMC = cg.get_coins_markets(ids='wolf-game-wool', vs_currency='usd')\n",
    "woolFDMC = woolFDMC[0]['fully_diluted_valuation']\n",
    "\n",
    "heroFDMC = cg.get_coins_markets(ids='metahero', vs_currency='usd')\n",
    "heroFDMC = heroFDMC[0]['fully_diluted_valuation']"
   ]
  },
  {
   "cell_type": "markdown",
   "id": "4167f351",
   "metadata": {},
   "source": [
    "<h3>Build NFT Collection Data<h3>"
   ]
  },
  {
   "cell_type": "code",
   "execution_count": 11,
   "id": "a2672214",
   "metadata": {},
   "outputs": [
    {
     "data": {
      "text/plain": [
       "1940372935.0"
      ]
     },
     "execution_count": 11,
     "metadata": {},
     "output_type": "execute_result"
    }
   ],
   "source": [
    "#ApeCoin NFT Build\n",
    "#Apes\n",
    "baycNFT = cg.get_nfts_by_id(id='bored-ape-yacht-club')\n",
    "baycNFT = float(baycNFT['market_cap']['usd'])\n",
    "\n",
    "#Mutants\n",
    "maycNFT = cg.get_nfts_by_id(id='mutant-ape-yacht-club')\n",
    "maycNFT = float(maycNFT['market_cap']['usd'])\n",
    "\n",
    "#Otherside\n",
    "otherNFT = cg.get_nfts_by_id(id='otherdeed-for-otherside')\n",
    "otherNFT = float(otherNFT['market_cap']['usd'])\n",
    "\n",
    "#Kennel Club\n",
    "bakcNFT = cg.get_nfts_by_id(id='bored-ape-kennel-club')\n",
    "bakcNFT = float(bakcNFT['market_cap']['usd'])\n",
    "\n",
    "totalApeCoinNFT = baycNFT + maycNFT + otherNFT + bakcNFT\n",
    "totalApeCoinNFT"
   ]
  },
  {
   "cell_type": "code",
   "execution_count": 17,
   "id": "ab0fde2a",
   "metadata": {},
   "outputs": [
    {
     "data": {
      "text/plain": [
       "14781111.4"
      ]
     },
     "execution_count": 17,
     "metadata": {},
     "output_type": "execute_result"
    }
   ],
   "source": [
    "#Meta Hero NFT Build\n",
    "\n",
    "metaHNFT = cg.get_nfts_by_id(id='metahero')\n",
    "metaHNFT = float(metaHNFT['market_cap']['usd'])\n",
    "\n",
    "metaCoreNFT = cg.get_nfts_by_id(id='metahero-universe-core-identities')\n",
    "metaCoreNFT = float(metaCoreNFT['market_cap']['usd'])\n",
    "\n",
    "metaPltNFT = cg.get_nfts_by_id(id='metahero-universe-united-planets')\n",
    "metaPltNFT = float(metaPltNFT['market_cap']['usd'])\n",
    "\n",
    "totalMetaHeroNFT = metaHNFT + metaCoreNFT + metaPltNFT\n",
    "totalMetaHeroNFT\n",
    "#metahero\n",
    "#metahero-universe-core-identities\n",
    "#metahero-universe-united-planets"
   ]
  },
  {
   "cell_type": "code",
   "execution_count": 19,
   "id": "3d279bdf",
   "metadata": {},
   "outputs": [
    {
     "data": {
      "text/plain": [
       "21847811.0"
      ]
     },
     "execution_count": 19,
     "metadata": {},
     "output_type": "execute_result"
    }
   ],
   "source": [
    "#Wolf Game NFT Build\n",
    "wgLandNFT = cg.get_nfts_by_id(id='wolf-game-land')\n",
    "wgLandNFT = float(wgLandNFT['market_cap']['usd'])\n",
    "\n",
    "wgNFT = cg.get_nfts_by_id(id='wolf-game')\n",
    "wgNFT = float(wgNFT['market_cap']['usd'])\n",
    "\n",
    "totalWGNFT = wgLandNFT + wgNFT\n",
    "totalWGNFT"
   ]
  },
  {
   "cell_type": "code",
   "execution_count": 20,
   "id": "c22baedc",
   "metadata": {},
   "outputs": [],
   "source": [
    "#Other NFT Builds\n",
    "#Sandbox\n",
    "sandNFT = cg.get_nfts_by_id(id='sandbox')\n",
    "sandNFT = sandNFT = float(sandNFT['market_cap']['usd'])\n",
    "\n",
    "#Decentraland\n",
    "manaNFT = cg.get_nfts_by_id(id='decentraland')\n",
    "manaNFT = manaNFT = float(manaNFT['market_cap']['usd'])\n",
    "\n",
    "#Zed Run\n",
    "zedNFT = cg.get_nfts_by_id(id='zed-run-legacy')\n",
    "zedNFT = zedNFT = float(zedNFT['market_cap']['usd'])\n",
    "\n",
    "#ENS\n",
    "ensNFT = cg.get_nfts_by_id(id='ens-ethereum-name-service')\n",
    "ensNFT = ensNFT = float(ensNFT['market_cap']['usd'])\n",
    "\n",
    "#Decentral Games\n",
    "dgNFT = cg.get_nfts_by_id(id='decentral-games-ice')\n",
    "dgNFT = dgNFT = float(dgNFT['market_cap']['usd'])"
   ]
  },
  {
   "cell_type": "code",
   "execution_count": 21,
   "id": "f3a17f7b",
   "metadata": {},
   "outputs": [
    {
     "data": {
      "text/plain": [
       "[3, 13, 8, 9, 4, 3, 1]"
      ]
     },
     "execution_count": 21,
     "metadata": {},
     "output_type": "execute_result"
    }
   ],
   "source": [
    "#NFT Multiples\n",
    "apeMul = int(round(apecoinFDMC / totalApeCoinNFT,2))\n",
    "sandMul = int(round(sandFDMC / sandNFT,2))\n",
    "manaMul = int(round(manaFDMC / manaNFT,2))\n",
    "zedMul= int(round(zedFDMC / zedNFT,2)) \n",
    "wgMul = int(round(woolFDMC / totalWGNFT,2))\n",
    "heroMul = int(round(heroFDMC / totalMetaHeroNFT,2))\n",
    "dgMul = int(round(dgFDMC / totalMetaHeroNFT,2))\n",
    "multiplesList = [apeMul, sandMul, manaMul, zedMul, wgMul, heroMul, dgMul]\n",
    "multiplesList\n",
    "#ensMul= int(round(ensFDMC / ensNFT,2)) "
   ]
  },
  {
   "cell_type": "markdown",
   "id": "bfbc13c6",
   "metadata": {},
   "source": [
    "<h3>Master Combined Comps Table<h3>"
   ]
  },
  {
   "cell_type": "code",
   "execution_count": 22,
   "id": "da64c3d9",
   "metadata": {
    "scrolled": true
   },
   "outputs": [
    {
     "data": {
      "text/html": [
       "<div>\n",
       "<style scoped>\n",
       "    .dataframe tbody tr th:only-of-type {\n",
       "        vertical-align: middle;\n",
       "    }\n",
       "\n",
       "    .dataframe tbody tr th {\n",
       "        vertical-align: top;\n",
       "    }\n",
       "\n",
       "    .dataframe thead th {\n",
       "        text-align: right;\n",
       "    }\n",
       "</style>\n",
       "<table border=\"1\" class=\"dataframe\">\n",
       "  <thead>\n",
       "    <tr style=\"text-align: right;\">\n",
       "      <th></th>\n",
       "      <th>Project</th>\n",
       "      <th>FDMC</th>\n",
       "      <th>Token Volume</th>\n",
       "      <th>NFT Collection Valuation</th>\n",
       "      <th>NFT Collection Volume</th>\n",
       "      <th>FDMC / NFT Collection Multiple(x)</th>\n",
       "    </tr>\n",
       "  </thead>\n",
       "  <tbody>\n",
       "    <tr>\n",
       "      <th>0</th>\n",
       "      <td>apecoin</td>\n",
       "      <td>6089208679</td>\n",
       "      <td>x</td>\n",
       "      <td>1.940373e+09</td>\n",
       "      <td>x</td>\n",
       "      <td>3</td>\n",
       "    </tr>\n",
       "    <tr>\n",
       "      <th>1</th>\n",
       "      <td>the-sandbox</td>\n",
       "      <td>2283148857</td>\n",
       "      <td>x</td>\n",
       "      <td>1.668890e+08</td>\n",
       "      <td>x</td>\n",
       "      <td>13</td>\n",
       "    </tr>\n",
       "    <tr>\n",
       "      <th>2</th>\n",
       "      <td>decentraland</td>\n",
       "      <td>1750674895</td>\n",
       "      <td>x</td>\n",
       "      <td>2.130841e+08</td>\n",
       "      <td>x</td>\n",
       "      <td>8</td>\n",
       "    </tr>\n",
       "    <tr>\n",
       "      <th>3</th>\n",
       "      <td>metahero</td>\n",
       "      <td>51567376</td>\n",
       "      <td>x</td>\n",
       "      <td>1.478111e+07</td>\n",
       "      <td>x</td>\n",
       "      <td>3</td>\n",
       "    </tr>\n",
       "    <tr>\n",
       "      <th>4</th>\n",
       "      <td>wolf-game-wool</td>\n",
       "      <td>89756089</td>\n",
       "      <td>x</td>\n",
       "      <td>2.184781e+07</td>\n",
       "      <td>x</td>\n",
       "      <td>4</td>\n",
       "    </tr>\n",
       "    <tr>\n",
       "      <th>5</th>\n",
       "      <td>zed-run</td>\n",
       "      <td>31030192</td>\n",
       "      <td>x</td>\n",
       "      <td>3.274919e+06</td>\n",
       "      <td>x</td>\n",
       "      <td>9</td>\n",
       "    </tr>\n",
       "    <tr>\n",
       "      <th>6</th>\n",
       "      <td>decentral-games</td>\n",
       "      <td>22870696</td>\n",
       "      <td>x</td>\n",
       "      <td>2.323888e+06</td>\n",
       "      <td>x</td>\n",
       "      <td>1</td>\n",
       "    </tr>\n",
       "  </tbody>\n",
       "</table>\n",
       "</div>"
      ],
      "text/plain": [
       "           Project        FDMC Token Volume  NFT Collection Valuation  \\\n",
       "0          apecoin  6089208679            x              1.940373e+09   \n",
       "1      the-sandbox  2283148857            x              1.668890e+08   \n",
       "2     decentraland  1750674895            x              2.130841e+08   \n",
       "3         metahero    51567376            x              1.478111e+07   \n",
       "4   wolf-game-wool    89756089            x              2.184781e+07   \n",
       "5          zed-run    31030192            x              3.274919e+06   \n",
       "6  decentral-games    22870696            x              2.323888e+06   \n",
       "\n",
       "  NFT Collection Volume  FDMC / NFT Collection Multiple(x)  \n",
       "0                     x                                  3  \n",
       "1                     x                                 13  \n",
       "2                     x                                  8  \n",
       "3                     x                                  3  \n",
       "4                     x                                  4  \n",
       "5                     x                                  9  \n",
       "6                     x                                  1  "
      ]
     },
     "execution_count": 22,
     "metadata": {},
     "output_type": "execute_result"
    }
   ],
   "source": [
    "#construct nft comps table\n",
    "nftComps = pd.DataFrame({\"Project\": ['apecoin','the-sandbox','decentraland','metahero','wolf-game-wool','zed-run','decentral-games'],\n",
    "                        \"FDMC\":[apecoinFDMC,sandFDMC,manaFDMC,heroFDMC,woolFDMC,zedFDMC,dgFDMC],\n",
    "                        \"Token Volume\":[\"x\",\"x\",\"x\",\"x\",\"x\",\"x\",\"x\"],\n",
    "                        \"NFT Collection Valuation\":[totalApeCoinNFT,sandNFT,manaNFT,totalMetaHeroNFT,totalWGNFT,zedNFT,dgNFT],\n",
    "                        \"NFT Collection Volume\":[\"x\",\"x\",\"x\",\"x\",\"x\",\"x\",\"x\"],\n",
    "                        \"FDMC / NFT Collection Multiple(x)\":[apeMul,sandMul,manaMul,heroMul,wgMul,zedMul,dgMul],\n",
    "                        })\n",
    "nftComps"
   ]
  },
  {
   "cell_type": "code",
   "execution_count": 37,
   "id": "874b7c76",
   "metadata": {},
   "outputs": [
    {
     "name": "stdout",
     "output_type": "stream",
     "text": [
      "[13, 5.86, 4.0, 1]\n"
     ]
    }
   ],
   "source": [
    "#Multiples Average\n",
    "multiplesAvg = round(np.average(multiplesList),2)\n",
    "\n",
    "#Multiples Median\n",
    "multiplesMedian = round(np.median(multiplesList), 2)\n",
    "\n",
    "#Multiples High\n",
    "multiplesHi = round(np.max(multiplesList), 2)\n",
    "#Multiples Low\n",
    "multiplesLo = round(np.min(multiplesList), 2)\n",
    "\n",
    "#Summary of Multiples\n",
    "multiplesSummary = [multiplesHi, multiplesAvg, multiplesMedian, multiplesLo]\n",
    "print(multiplesSummary)\n",
    "\n",
    "rowLabels = [\"Multiples\", \"Implied Valuation\"]"
   ]
  },
  {
   "cell_type": "code",
   "execution_count": 49,
   "id": "745fbf3d",
   "metadata": {},
   "outputs": [],
   "source": [
    "#Valuation Ranges\n",
    "#High\n",
    "valHi = clientNFTVal * multiplesHi\n",
    "#Median\n",
    "valMed = clientNFTVal * multiplesMedian\n",
    "#Average\n",
    "valAvg = clientNFTVal * multiplesAvg\n",
    "#Low\n",
    "valLo = clientNFTVal * multiplesLo"
   ]
  },
  {
   "cell_type": "code",
   "execution_count": 62,
   "id": "0699d463",
   "metadata": {},
   "outputs": [
    {
     "data": {
      "text/html": [
       "<div>\n",
       "<style scoped>\n",
       "    .dataframe tbody tr th:only-of-type {\n",
       "        vertical-align: middle;\n",
       "    }\n",
       "\n",
       "    .dataframe tbody tr th {\n",
       "        vertical-align: top;\n",
       "    }\n",
       "\n",
       "    .dataframe thead th {\n",
       "        text-align: right;\n",
       "    }\n",
       "</style>\n",
       "<table border=\"1\" class=\"dataframe\">\n",
       "  <thead>\n",
       "    <tr style=\"text-align: right;\">\n",
       "      <th></th>\n",
       "      <th>High</th>\n",
       "      <th>Median</th>\n",
       "      <th>Low</th>\n",
       "    </tr>\n",
       "  </thead>\n",
       "  <tbody>\n",
       "    <tr>\n",
       "      <th>Multiple</th>\n",
       "      <td>13</td>\n",
       "      <td>4.0</td>\n",
       "      <td>1</td>\n",
       "    </tr>\n",
       "    <tr>\n",
       "      <th>Implied Valuation</th>\n",
       "      <td>45500000</td>\n",
       "      <td>14000000.0</td>\n",
       "      <td>3500000</td>\n",
       "    </tr>\n",
       "  </tbody>\n",
       "</table>\n",
       "</div>"
      ],
      "text/plain": [
       "                       High      Median      Low\n",
       "Multiple                 13         4.0        1\n",
       "Implied Valuation  45500000  14000000.0  3500000"
      ]
     },
     "execution_count": 62,
     "metadata": {},
     "output_type": "execute_result"
    }
   ],
   "source": [
    "multiplesSummary = pd.DataFrame({'High': [multiplesHi, valHi],\n",
    "                   'Median': [multiplesMedian, valMed],\n",
    "                   'Low': [multiplesLo, valLo]},\n",
    "                  index=['Multiple', 'Implied Valuation'])\n",
    "multiplesSummary"
   ]
  },
  {
   "cell_type": "markdown",
   "id": "ec055a7d",
   "metadata": {},
   "source": [
    "<h3>Valuation Ranges<h3>"
   ]
  },
  {
   "cell_type": "code",
   "execution_count": null,
   "id": "fb69e777",
   "metadata": {},
   "outputs": [],
   "source": [
    "###additional nft ids###\n",
    "\n",
    "#mutant-ape-yacht-club\n",
    "#otherdeed-for-otherside\n",
    "#bored-ape-kennel-club\n",
    "\n",
    "#wolf-game-land\n",
    "#wolf-game\n",
    "\n",
    "#decentraland\n",
    "\n",
    "#sandbox\n",
    "\n",
    "#metahero\n",
    "#metahero-universe-core-identities\n",
    "#metahero-universe-united-planets\n",
    "\n",
    "#zed-run-legacy\n",
    "\n",
    "#decentral-games-ice\n",
    "\n",
    "#ens-ethereum-name-service"
   ]
  }
 ],
 "metadata": {
  "kernelspec": {
   "display_name": "Python 3 (ipykernel)",
   "language": "python",
   "name": "python3"
  },
  "language_info": {
   "codemirror_mode": {
    "name": "ipython",
    "version": 3
   },
   "file_extension": ".py",
   "mimetype": "text/x-python",
   "name": "python",
   "nbconvert_exporter": "python",
   "pygments_lexer": "ipython3",
   "version": "3.9.13"
  }
 },
 "nbformat": 4,
 "nbformat_minor": 5
}
