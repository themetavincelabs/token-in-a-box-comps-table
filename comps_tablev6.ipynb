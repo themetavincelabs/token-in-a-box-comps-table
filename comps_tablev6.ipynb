{
 "cells": [
  {
   "cell_type": "code",
   "execution_count": 1,
   "id": "6b362918",
   "metadata": {},
   "outputs": [],
   "source": [
    "###IMPORT LIBRARIES###\n",
    "import matplotlib.pyplot as plt\n",
    "import numpy as np\n",
    "import pandas as pd\n",
    "#import json #json encoder\n",
    "import requests"
   ]
  },
  {
   "cell_type": "code",
   "execution_count": 2,
   "id": "6777fe81",
   "metadata": {},
   "outputs": [
    {
     "name": "stdout",
     "output_type": "stream",
     "text": [
      "200\n"
     ]
    }
   ],
   "source": [
    "response = requests.get(\"https://api.coingecko.com/api/v3/ping\")\n",
    "print(response.status_code)"
   ]
  },
  {
   "cell_type": "code",
   "execution_count": 3,
   "id": "3e8702b2",
   "metadata": {},
   "outputs": [],
   "source": [
    "#coinlist\n",
    "#https://api.coingecko.com/api/v3/coins/list"
   ]
  },
  {
   "cell_type": "code",
   "execution_count": 4,
   "id": "e9cca8b4",
   "metadata": {},
   "outputs": [
    {
     "name": "stdout",
     "output_type": "stream",
     "text": [
      "Requirement already satisfied: pycoingecko in c:\\users\\vincentramsey\\anaconda3\\lib\\site-packages (3.1.0)\n",
      "Requirement already satisfied: requests in c:\\users\\vincentramsey\\anaconda3\\lib\\site-packages (from pycoingecko) (2.28.1)\n",
      "Requirement already satisfied: idna<4,>=2.5 in c:\\users\\vincentramsey\\anaconda3\\lib\\site-packages (from requests->pycoingecko) (3.3)\n",
      "Requirement already satisfied: charset-normalizer<3,>=2 in c:\\users\\vincentramsey\\anaconda3\\lib\\site-packages (from requests->pycoingecko) (2.0.4)\n",
      "Requirement already satisfied: urllib3<1.27,>=1.21.1 in c:\\users\\vincentramsey\\anaconda3\\lib\\site-packages (from requests->pycoingecko) (1.26.11)\n",
      "Requirement already satisfied: certifi>=2017.4.17 in c:\\users\\vincentramsey\\anaconda3\\lib\\site-packages (from requests->pycoingecko) (2022.9.14)\n",
      "Note: you may need to restart the kernel to use updated packages.\n"
     ]
    }
   ],
   "source": [
    "pip install -U pycoingecko\n"
   ]
  },
  {
   "cell_type": "code",
   "execution_count": 5,
   "id": "926b61e2",
   "metadata": {},
   "outputs": [],
   "source": [
    "from pycoingecko import CoinGeckoAPI\n",
    "cg = CoinGeckoAPI() "
   ]
  },
  {
   "cell_type": "markdown",
   "id": "bdffaa0d",
   "metadata": {},
   "source": [
    "<h3>Some Basic User Inputs For Valuation<h3>"
   ]
  },
  {
   "cell_type": "code",
   "execution_count": 6,
   "id": "951f04a6",
   "metadata": {},
   "outputs": [
    {
     "name": "stdout",
     "output_type": "stream",
     "text": [
      "How many FD tokens? Enter whole number 1000000\n"
     ]
    }
   ],
   "source": [
    "fdTokens = int(input(\"How many FD tokens? Enter whole number \"))"
   ]
  },
  {
   "cell_type": "code",
   "execution_count": 7,
   "id": "354d4b01",
   "metadata": {},
   "outputs": [
    {
     "name": "stdout",
     "output_type": "stream",
     "text": [
      "What is the NFT Marketcap? 3500000000\n"
     ]
    }
   ],
   "source": [
    "clientNFTVal = int(input(\"What is the NFT Marketcap? \"))"
   ]
  },
  {
   "cell_type": "markdown",
   "id": "6939e995",
   "metadata": {},
   "source": [
    "<h3>Pull Singular Token Price<h3>"
   ]
  },
  {
   "cell_type": "code",
   "execution_count": 23,
   "id": "eae6c8ce",
   "metadata": {},
   "outputs": [
    {
     "name": "stdout",
     "output_type": "stream",
     "text": [
      "23.03 1646.84\n"
     ]
    }
   ],
   "source": [
    "#Blockchains\n",
    "eth = cg.get_price(ids='ethereum', vs_currencies='usd')\n",
    "ethPrice = float(eth['ethereum']['usd'])\n",
    "\n",
    "sol = cg.get_price(ids='solana', vs_currencies='usd')\n",
    "solPrice = float(sol['solana']['usd'])\n",
    "print(solPrice, ethPrice)"
   ]
  },
  {
   "cell_type": "markdown",
   "id": "c543fb14",
   "metadata": {},
   "source": [
    "<h3>Pull Comps Table with Market Data<h3>"
   ]
  },
  {
   "cell_type": "code",
   "execution_count": 11,
   "id": "36c232bd",
   "metadata": {},
   "outputs": [],
   "source": [
    "#pulls from /coins/markets (List all supported coins price, market cap, volume, and market related data)\n",
    "#reference json https://api.coingecko.com/api/v3/coins/markets?vs_currency=usd&ids=apecoin&order=market_cap_desc&per_page=100&page=1&sparkline=false\n",
    "coinMarketData = cg.get_coins_markets(ids='apecoin,the-sandbox,decentraland,metahero,wolf-game-wool,zed-run,decentral-games,ethereum-name-service,dust-protocol',\n",
    "    vs_currency='usd')\n",
    "price_df = pd.DataFrame(coinMarketData)\n",
    "#rice_df.head(10)"
   ]
  },
  {
   "cell_type": "code",
   "execution_count": 14,
   "id": "2b49103b",
   "metadata": {},
   "outputs": [],
   "source": [
    "#Token FDMC Pulls\n",
    "apecoinFDMC = cg.get_coins_markets(ids='apecoin', vs_currency='usd')\n",
    "apecoinFDMC = apecoinFDMC[0]['fully_diluted_valuation']\n",
    "\n",
    "sandFDMC = cg.get_coins_markets(ids='the-sandbox', vs_currency='usd')\n",
    "sandFDMC = sandFDMC[0]['fully_diluted_valuation']\n",
    "\n",
    "manaFDMC = cg.get_coins_markets(ids='decentraland', vs_currency='usd')\n",
    "manaFDMC = manaFDMC[0]['fully_diluted_valuation']\n",
    "\n",
    "raiderFDMC = cg.get_coins_markets(ids='crypto-raiders', vs_currency='usd')\n",
    "raiderFDMC = raiderFDMC[0]['fully_diluted_valuation']\n",
    "\n",
    "zedFDMC = cg.get_coins_markets(ids='zed-run', vs_currency='usd')\n",
    "zedFDMC = zedFDMC[0]['fully_diluted_valuation']\n",
    "\n",
    "dgFDMC = cg.get_coins_markets(ids='decentral-games', vs_currency='usd')\n",
    "dgFDMC = dgFDMC[0]['fully_diluted_valuation']\n",
    "\n",
    "ensFDMC = cg.get_coins_markets(ids='ethereum-name-service', vs_currency='usd')\n",
    "ensFDMC = ensFDMC[0]['fully_diluted_valuation']\n",
    "\n",
    "woolFDMC = cg.get_coins_markets(ids='wolf-game-wool', vs_currency='usd')\n",
    "woolFDMC = woolFDMC[0]['fully_diluted_valuation']\n",
    "\n",
    "heroFDMC = cg.get_coins_markets(ids='metahero', vs_currency='usd')\n",
    "heroFDMC = heroFDMC[0]['fully_diluted_valuation']\n",
    "\n",
    "dustFDMC = cg.get_coins_markets(ids='dust-protocol', vs_currency='usd')\n",
    "dustFDMC = dustFDMC[0]['fully_diluted_valuation']"
   ]
  },
  {
   "cell_type": "markdown",
   "id": "4167f351",
   "metadata": {},
   "source": [
    "<h3>Build NFT Collection Data<h3>"
   ]
  },
  {
   "cell_type": "code",
   "execution_count": 15,
   "id": "a2672214",
   "metadata": {},
   "outputs": [
    {
     "data": {
      "text/plain": [
       "2082962121.0"
      ]
     },
     "execution_count": 15,
     "metadata": {},
     "output_type": "execute_result"
    }
   ],
   "source": [
    "#ApeCoin NFT Build\n",
    "#Apes\n",
    "baycNFT = cg.get_nfts_by_id(id='bored-ape-yacht-club')\n",
    "baycNFT = float(baycNFT['market_cap']['usd'])\n",
    "\n",
    "#Mutants\n",
    "maycNFT = cg.get_nfts_by_id(id='mutant-ape-yacht-club')\n",
    "maycNFT = float(maycNFT['market_cap']['usd'])\n",
    "\n",
    "#Otherside\n",
    "otherNFT = cg.get_nfts_by_id(id='otherdeed-for-otherside')\n",
    "otherNFT = float(otherNFT['market_cap']['usd'])\n",
    "\n",
    "#Kennel Club\n",
    "bakcNFT = cg.get_nfts_by_id(id='bored-ape-kennel-club')\n",
    "bakcNFT = float(bakcNFT['market_cap']['usd'])\n",
    "\n",
    "totalApeCoinNFT = baycNFT + maycNFT + otherNFT + bakcNFT\n",
    "totalApeCoinNFT"
   ]
  },
  {
   "cell_type": "code",
   "execution_count": 16,
   "id": "ab0fde2a",
   "metadata": {},
   "outputs": [
    {
     "data": {
      "text/plain": [
       "10268730.89"
      ]
     },
     "execution_count": 16,
     "metadata": {},
     "output_type": "execute_result"
    }
   ],
   "source": [
    "#Meta Hero NFT Build\n",
    "\n",
    "metaHNFT = cg.get_nfts_by_id(id='metahero')\n",
    "metaHNFT = float(metaHNFT['market_cap']['usd'])\n",
    "\n",
    "metaCoreNFT = cg.get_nfts_by_id(id='metahero-universe-core-identities')\n",
    "metaCoreNFT = float(metaCoreNFT['market_cap']['usd'])\n",
    "\n",
    "metaPltNFT = cg.get_nfts_by_id(id='metahero-universe-united-planets')\n",
    "metaPltNFT = float(metaPltNFT['market_cap']['usd'])\n",
    "\n",
    "totalMetaHeroNFT = metaHNFT + metaCoreNFT + metaPltNFT\n",
    "totalMetaHeroNFT\n",
    "#metahero\n",
    "#metahero-universe-core-identities\n",
    "#metahero-universe-united-planets"
   ]
  },
  {
   "cell_type": "code",
   "execution_count": 33,
   "id": "3d279bdf",
   "metadata": {},
   "outputs": [
    {
     "data": {
      "text/plain": [
       "21914751.0"
      ]
     },
     "execution_count": 33,
     "metadata": {},
     "output_type": "execute_result"
    }
   ],
   "source": [
    "#Wolf Game NFT Build\n",
    "wgLandNFT = cg.get_nfts_by_id(id='wolf-game-land')\n",
    "wgLandNFT = float(wgLandNFT['market_cap']['usd'])\n",
    "\n",
    "wgNFT = cg.get_nfts_by_id(id='wolf-game')\n",
    "wgNFT = float(wgNFT['market_cap']['usd'])\n",
    "\n",
    "totalWGNFT = wgLandNFT + wgNFT\n",
    "totalWGNFT"
   ]
  },
  {
   "cell_type": "code",
   "execution_count": 34,
   "id": "3635a8b9",
   "metadata": {},
   "outputs": [
    {
     "data": {
      "text/plain": [
       "159678908.0"
      ]
     },
     "execution_count": 34,
     "metadata": {},
     "output_type": "execute_result"
    }
   ],
   "source": [
    "#DeGods & Yoots Build\n",
    "degodsNFT = cg.get_nfts_by_id(id='degods')\n",
    "degodsNFT = degodsNFT = float(degodsNFT['market_cap']['usd'])\n",
    "\n",
    "yootsNFTethFloor = (148 * solPrice) / ethPrice\n",
    "\n",
    "yootsNFTmc = yootsNFTethFloor * 13000 * ethPrice\n",
    "\n",
    "totalDegodsNFT = yootsNFTmc +  degodsNFT\n",
    "totalDegodsNFT"
   ]
  },
  {
   "cell_type": "code",
   "execution_count": 35,
   "id": "c22baedc",
   "metadata": {},
   "outputs": [],
   "source": [
    "#Other NFT Builds\n",
    "#Sandbox\n",
    "sandNFT = cg.get_nfts_by_id(id='sandbox')\n",
    "sandNFT = sandNFT = float(sandNFT['market_cap']['usd'])\n",
    "\n",
    "#Decentraland\n",
    "manaNFT = cg.get_nfts_by_id(id='decentraland')\n",
    "manaNFT = manaNFT = float(manaNFT['market_cap']['usd'])\n",
    "\n",
    "#Zed Run\n",
    "zedNFT = cg.get_nfts_by_id(id='zed-run-legacy')\n",
    "zedNFT = zedNFT = float(zedNFT['market_cap']['usd'])\n",
    "\n",
    "#Decentral Games\n",
    "dgNFT = cg.get_nfts_by_id(id='decentral-games-ice')\n",
    "dgNFT = dgNFT = float(dgNFT['market_cap']['usd'])\n",
    "\n",
    "###ENS###\n",
    "#ensNFT = cg.get_nfts_by_id(id='ens-ethereum-name-service')\n",
    "#ensNFT = ensNFT = float(ensNFT['market_cap']['usd'])"
   ]
  },
  {
   "cell_type": "code",
   "execution_count": 51,
   "id": "f3a17f7b",
   "metadata": {},
   "outputs": [
    {
     "data": {
      "text/plain": [
       "[2.75, 14.86, 8.21, 12.09, 3.81, 5.86, 2, 0.34]"
      ]
     },
     "execution_count": 51,
     "metadata": {},
     "output_type": "execute_result"
    }
   ],
   "source": [
    "#NFT Multiples\n",
    "apeMul = float(round(apecoinFDMC / totalApeCoinNFT,2))\n",
    "sandMul = float(round(sandFDMC / sandNFT,2))\n",
    "manaMul = float(round(manaFDMC / manaNFT,2))\n",
    "zedMul= float(round(zedFDMC / zedNFT,2)) \n",
    "wgMul = float(round(woolFDMC / totalWGNFT,2))\n",
    "heroMul = float(round(heroFDMC / totalMetaHeroNFT,2))\n",
    "#dgMul = float(round(dgFDMC / totalMetaHeroNFT,2))\n",
    "dustMul = float(round(dustFDMC / totalDegodsNFT,2))\n",
    "multiplesList = [apeMul, sandMul, manaMul, zedMul, wgMul, heroMul, dgMul,dustMul]\n",
    "multiplesList\n",
    "#ensMul= int(round(ensFDMC / ensNFT,2)) "
   ]
  },
  {
   "cell_type": "markdown",
   "id": "bfbc13c6",
   "metadata": {},
   "source": [
    "<h3>Master Combined Comps Table<h3>"
   ]
  },
  {
   "cell_type": "code",
   "execution_count": 52,
   "id": "da64c3d9",
   "metadata": {
    "scrolled": true
   },
   "outputs": [
    {
     "data": {
      "text/html": [
       "<div>\n",
       "<style scoped>\n",
       "    .dataframe tbody tr th:only-of-type {\n",
       "        vertical-align: middle;\n",
       "    }\n",
       "\n",
       "    .dataframe tbody tr th {\n",
       "        vertical-align: top;\n",
       "    }\n",
       "\n",
       "    .dataframe thead th {\n",
       "        text-align: right;\n",
       "    }\n",
       "</style>\n",
       "<table border=\"1\" class=\"dataframe\">\n",
       "  <thead>\n",
       "    <tr style=\"text-align: right;\">\n",
       "      <th></th>\n",
       "      <th>Project</th>\n",
       "      <th>FDMC</th>\n",
       "      <th>Token Volume</th>\n",
       "      <th>NFT Collection Valuation</th>\n",
       "      <th>NFT Collection Volume</th>\n",
       "      <th>FDMC / NFT Collection Multiple(x)</th>\n",
       "    </tr>\n",
       "  </thead>\n",
       "  <tbody>\n",
       "    <tr>\n",
       "      <th>0</th>\n",
       "      <td>apecoin</td>\n",
       "      <td>5725307134</td>\n",
       "      <td>x</td>\n",
       "      <td>2.082962e+09</td>\n",
       "      <td>x</td>\n",
       "      <td>2.75</td>\n",
       "    </tr>\n",
       "    <tr>\n",
       "      <th>1</th>\n",
       "      <td>the-sandbox</td>\n",
       "      <td>2492111164</td>\n",
       "      <td>x</td>\n",
       "      <td>1.677593e+08</td>\n",
       "      <td>x</td>\n",
       "      <td>14.86</td>\n",
       "    </tr>\n",
       "    <tr>\n",
       "      <th>2</th>\n",
       "      <td>decentraland</td>\n",
       "      <td>1641663249</td>\n",
       "      <td>x</td>\n",
       "      <td>2.000744e+08</td>\n",
       "      <td>x</td>\n",
       "      <td>8.21</td>\n",
       "    </tr>\n",
       "    <tr>\n",
       "      <th>3</th>\n",
       "      <td>metahero</td>\n",
       "      <td>60146746</td>\n",
       "      <td>x</td>\n",
       "      <td>1.026873e+07</td>\n",
       "      <td>x</td>\n",
       "      <td>5.86</td>\n",
       "    </tr>\n",
       "    <tr>\n",
       "      <th>4</th>\n",
       "      <td>wolf-game-wool</td>\n",
       "      <td>83435861</td>\n",
       "      <td>x</td>\n",
       "      <td>2.191475e+07</td>\n",
       "      <td>x</td>\n",
       "      <td>3.81</td>\n",
       "    </tr>\n",
       "    <tr>\n",
       "      <th>5</th>\n",
       "      <td>zed-run</td>\n",
       "      <td>29841247</td>\n",
       "      <td>x</td>\n",
       "      <td>2.468063e+06</td>\n",
       "      <td>x</td>\n",
       "      <td>12.09</td>\n",
       "    </tr>\n",
       "    <tr>\n",
       "      <th>6</th>\n",
       "      <td>decentral-games</td>\n",
       "      <td>30511380</td>\n",
       "      <td>x</td>\n",
       "      <td>2.683672e+06</td>\n",
       "      <td>x</td>\n",
       "      <td>2.00</td>\n",
       "    </tr>\n",
       "  </tbody>\n",
       "</table>\n",
       "</div>"
      ],
      "text/plain": [
       "           Project        FDMC Token Volume  NFT Collection Valuation  \\\n",
       "0          apecoin  5725307134            x              2.082962e+09   \n",
       "1      the-sandbox  2492111164            x              1.677593e+08   \n",
       "2     decentraland  1641663249            x              2.000744e+08   \n",
       "3         metahero    60146746            x              1.026873e+07   \n",
       "4   wolf-game-wool    83435861            x              2.191475e+07   \n",
       "5          zed-run    29841247            x              2.468063e+06   \n",
       "6  decentral-games    30511380            x              2.683672e+06   \n",
       "\n",
       "  NFT Collection Volume  FDMC / NFT Collection Multiple(x)  \n",
       "0                     x                               2.75  \n",
       "1                     x                              14.86  \n",
       "2                     x                               8.21  \n",
       "3                     x                               5.86  \n",
       "4                     x                               3.81  \n",
       "5                     x                              12.09  \n",
       "6                     x                               2.00  "
      ]
     },
     "execution_count": 52,
     "metadata": {},
     "output_type": "execute_result"
    }
   ],
   "source": [
    "#construct nft comps table\n",
    "nftComps = pd.DataFrame({\"Project\": ['apecoin','the-sandbox','decentraland','metahero','wolf-game-wool','zed-run','decentral-games'],\n",
    "                        \"FDMC\":[apecoinFDMC,sandFDMC,manaFDMC,heroFDMC,woolFDMC,zedFDMC,dgFDMC],\n",
    "                        \"Token Volume\":[\"x\",\"x\",\"x\",\"x\",\"x\",\"x\",\"x\"],\n",
    "                        \"NFT Collection Valuation\":[totalApeCoinNFT,sandNFT,manaNFT,totalMetaHeroNFT,totalWGNFT,zedNFT,dgNFT],\n",
    "                        \"NFT Collection Volume\":[\"x\",\"x\",\"x\",\"x\",\"x\",\"x\",\"x\"],\n",
    "                        \"FDMC / NFT Collection Multiple(x)\":[apeMul,sandMul,manaMul,heroMul,wgMul,zedMul,dgMul],\n",
    "                        })\n",
    "nftComps"
   ]
  },
  {
   "cell_type": "code",
   "execution_count": 46,
   "id": "b76d03cd",
   "metadata": {},
   "outputs": [
    {
     "ename": "PermissionError",
     "evalue": "[Errno 13] Permission denied: 'C:\\\\Users\\\\VincentRamsey\\\\Downloads'",
     "output_type": "error",
     "traceback": [
      "\u001b[1;31m---------------------------------------------------------------------------\u001b[0m",
      "\u001b[1;31mPermissionError\u001b[0m                           Traceback (most recent call last)",
      "\u001b[1;32m~\\AppData\\Local\\Temp\\ipykernel_2244\\3647450224.py\u001b[0m in \u001b[0;36m<module>\u001b[1;34m\u001b[0m\n\u001b[0;32m      1\u001b[0m \u001b[1;31m#export table\u001b[0m\u001b[1;33m\u001b[0m\u001b[1;33m\u001b[0m\u001b[0m\n\u001b[1;32m----> 2\u001b[1;33m \u001b[0mnftComps\u001b[0m\u001b[1;33m.\u001b[0m\u001b[0mto_csv\u001b[0m\u001b[1;33m(\u001b[0m\u001b[1;34mr'C:\\Users\\VincentRamsey\\Downloads'\u001b[0m\u001b[1;33m)\u001b[0m\u001b[1;33m\u001b[0m\u001b[1;33m\u001b[0m\u001b[0m\n\u001b[0m",
      "\u001b[1;32m~\\Anaconda3\\lib\\site-packages\\pandas\\core\\generic.py\u001b[0m in \u001b[0;36mto_csv\u001b[1;34m(self, path_or_buf, sep, na_rep, float_format, columns, header, index, index_label, mode, encoding, compression, quoting, quotechar, line_terminator, chunksize, date_format, doublequote, escapechar, decimal, errors, storage_options)\u001b[0m\n\u001b[0;32m   3549\u001b[0m         )\n\u001b[0;32m   3550\u001b[0m \u001b[1;33m\u001b[0m\u001b[0m\n\u001b[1;32m-> 3551\u001b[1;33m         return DataFrameRenderer(formatter).to_csv(\n\u001b[0m\u001b[0;32m   3552\u001b[0m             \u001b[0mpath_or_buf\u001b[0m\u001b[1;33m,\u001b[0m\u001b[1;33m\u001b[0m\u001b[1;33m\u001b[0m\u001b[0m\n\u001b[0;32m   3553\u001b[0m             \u001b[0mline_terminator\u001b[0m\u001b[1;33m=\u001b[0m\u001b[0mline_terminator\u001b[0m\u001b[1;33m,\u001b[0m\u001b[1;33m\u001b[0m\u001b[1;33m\u001b[0m\u001b[0m\n",
      "\u001b[1;32m~\\Anaconda3\\lib\\site-packages\\pandas\\io\\formats\\format.py\u001b[0m in \u001b[0;36mto_csv\u001b[1;34m(self, path_or_buf, encoding, sep, columns, index_label, mode, compression, quoting, quotechar, line_terminator, chunksize, date_format, doublequote, escapechar, errors, storage_options)\u001b[0m\n\u001b[0;32m   1178\u001b[0m             \u001b[0mformatter\u001b[0m\u001b[1;33m=\u001b[0m\u001b[0mself\u001b[0m\u001b[1;33m.\u001b[0m\u001b[0mfmt\u001b[0m\u001b[1;33m,\u001b[0m\u001b[1;33m\u001b[0m\u001b[1;33m\u001b[0m\u001b[0m\n\u001b[0;32m   1179\u001b[0m         )\n\u001b[1;32m-> 1180\u001b[1;33m         \u001b[0mcsv_formatter\u001b[0m\u001b[1;33m.\u001b[0m\u001b[0msave\u001b[0m\u001b[1;33m(\u001b[0m\u001b[1;33m)\u001b[0m\u001b[1;33m\u001b[0m\u001b[1;33m\u001b[0m\u001b[0m\n\u001b[0m\u001b[0;32m   1181\u001b[0m \u001b[1;33m\u001b[0m\u001b[0m\n\u001b[0;32m   1182\u001b[0m         \u001b[1;32mif\u001b[0m \u001b[0mcreated_buffer\u001b[0m\u001b[1;33m:\u001b[0m\u001b[1;33m\u001b[0m\u001b[1;33m\u001b[0m\u001b[0m\n",
      "\u001b[1;32m~\\Anaconda3\\lib\\site-packages\\pandas\\io\\formats\\csvs.py\u001b[0m in \u001b[0;36msave\u001b[1;34m(self)\u001b[0m\n\u001b[0;32m    239\u001b[0m         \"\"\"\n\u001b[0;32m    240\u001b[0m         \u001b[1;31m# apply compression and byte/text conversion\u001b[0m\u001b[1;33m\u001b[0m\u001b[1;33m\u001b[0m\u001b[0m\n\u001b[1;32m--> 241\u001b[1;33m         with get_handle(\n\u001b[0m\u001b[0;32m    242\u001b[0m             \u001b[0mself\u001b[0m\u001b[1;33m.\u001b[0m\u001b[0mfilepath_or_buffer\u001b[0m\u001b[1;33m,\u001b[0m\u001b[1;33m\u001b[0m\u001b[1;33m\u001b[0m\u001b[0m\n\u001b[0;32m    243\u001b[0m             \u001b[0mself\u001b[0m\u001b[1;33m.\u001b[0m\u001b[0mmode\u001b[0m\u001b[1;33m,\u001b[0m\u001b[1;33m\u001b[0m\u001b[1;33m\u001b[0m\u001b[0m\n",
      "\u001b[1;32m~\\Anaconda3\\lib\\site-packages\\pandas\\io\\common.py\u001b[0m in \u001b[0;36mget_handle\u001b[1;34m(path_or_buf, mode, encoding, compression, memory_map, is_text, errors, storage_options)\u001b[0m\n\u001b[0;32m    784\u001b[0m         \u001b[1;32mif\u001b[0m \u001b[0mioargs\u001b[0m\u001b[1;33m.\u001b[0m\u001b[0mencoding\u001b[0m \u001b[1;32mand\u001b[0m \u001b[1;34m\"b\"\u001b[0m \u001b[1;32mnot\u001b[0m \u001b[1;32min\u001b[0m \u001b[0mioargs\u001b[0m\u001b[1;33m.\u001b[0m\u001b[0mmode\u001b[0m\u001b[1;33m:\u001b[0m\u001b[1;33m\u001b[0m\u001b[1;33m\u001b[0m\u001b[0m\n\u001b[0;32m    785\u001b[0m             \u001b[1;31m# Encoding\u001b[0m\u001b[1;33m\u001b[0m\u001b[1;33m\u001b[0m\u001b[0m\n\u001b[1;32m--> 786\u001b[1;33m             handle = open(\n\u001b[0m\u001b[0;32m    787\u001b[0m                 \u001b[0mhandle\u001b[0m\u001b[1;33m,\u001b[0m\u001b[1;33m\u001b[0m\u001b[1;33m\u001b[0m\u001b[0m\n\u001b[0;32m    788\u001b[0m                 \u001b[0mioargs\u001b[0m\u001b[1;33m.\u001b[0m\u001b[0mmode\u001b[0m\u001b[1;33m,\u001b[0m\u001b[1;33m\u001b[0m\u001b[1;33m\u001b[0m\u001b[0m\n",
      "\u001b[1;31mPermissionError\u001b[0m: [Errno 13] Permission denied: 'C:\\\\Users\\\\VincentRamsey\\\\Downloads'"
     ]
    }
   ],
   "source": [
    "#export table\n",
    "#nftComps.to_csv(r'C:\\Users\\VincentRamsey\\Downloads')"
   ]
  },
  {
   "cell_type": "code",
   "execution_count": 41,
   "id": "874b7c76",
   "metadata": {},
   "outputs": [
    {
     "name": "stdout",
     "output_type": "stream",
     "text": [
      "[14, 5.75, 4.0, 0]\n"
     ]
    }
   ],
   "source": [
    "#Multiples Average\n",
    "multiplesAvg = round(np.average(multiplesList),2)\n",
    "\n",
    "#Multiples Median\n",
    "multiplesMedian = round(np.median(multiplesList), 2)\n",
    "\n",
    "#Multiples High\n",
    "multiplesHi = round(np.max(multiplesList), 2)\n",
    "#Multiples Low\n",
    "multiplesLo = round(np.min(multiplesList), 2)\n",
    "\n",
    "#Summary of Multiples\n",
    "multiplesSummary = [multiplesHi, multiplesAvg, multiplesMedian, multiplesLo]\n",
    "print(multiplesSummary)\n",
    "\n",
    "rowLabels = [\"Multiples\", \"Implied Valuation\"]"
   ]
  },
  {
   "cell_type": "code",
   "execution_count": 42,
   "id": "745fbf3d",
   "metadata": {},
   "outputs": [
    {
     "ename": "NameError",
     "evalue": "name 'clientNFTVal' is not defined",
     "output_type": "error",
     "traceback": [
      "\u001b[1;31m---------------------------------------------------------------------------\u001b[0m",
      "\u001b[1;31mNameError\u001b[0m                                 Traceback (most recent call last)",
      "\u001b[1;32m~\\AppData\\Local\\Temp\\ipykernel_2244\\1446360539.py\u001b[0m in \u001b[0;36m<module>\u001b[1;34m\u001b[0m\n\u001b[0;32m      1\u001b[0m \u001b[1;31m#Valuation Ranges\u001b[0m\u001b[1;33m\u001b[0m\u001b[1;33m\u001b[0m\u001b[0m\n\u001b[0;32m      2\u001b[0m \u001b[1;31m#High\u001b[0m\u001b[1;33m\u001b[0m\u001b[1;33m\u001b[0m\u001b[0m\n\u001b[1;32m----> 3\u001b[1;33m \u001b[0mvalHi\u001b[0m \u001b[1;33m=\u001b[0m \u001b[0mclientNFTVal\u001b[0m \u001b[1;33m*\u001b[0m \u001b[0mmultiplesHi\u001b[0m\u001b[1;33m\u001b[0m\u001b[1;33m\u001b[0m\u001b[0m\n\u001b[0m\u001b[0;32m      4\u001b[0m \u001b[1;31m#Median\u001b[0m\u001b[1;33m\u001b[0m\u001b[1;33m\u001b[0m\u001b[0m\n\u001b[0;32m      5\u001b[0m \u001b[0mvalMed\u001b[0m \u001b[1;33m=\u001b[0m \u001b[0mclientNFTVal\u001b[0m \u001b[1;33m*\u001b[0m \u001b[0mmultiplesMedian\u001b[0m\u001b[1;33m\u001b[0m\u001b[1;33m\u001b[0m\u001b[0m\n",
      "\u001b[1;31mNameError\u001b[0m: name 'clientNFTVal' is not defined"
     ]
    }
   ],
   "source": [
    "#Valuation Ranges\n",
    "#High\n",
    "valHi = clientNFTVal * multiplesHi\n",
    "#Median\n",
    "valMed = clientNFTVal * multiplesMedian\n",
    "#Average\n",
    "valAvg = clientNFTVal * multiplesAvg\n",
    "#Low\n",
    "valLo = clientNFTVal * multiplesLo"
   ]
  },
  {
   "cell_type": "code",
   "execution_count": 23,
   "id": "0699d463",
   "metadata": {},
   "outputs": [
    {
     "data": {
      "text/html": [
       "<div>\n",
       "<style scoped>\n",
       "    .dataframe tbody tr th:only-of-type {\n",
       "        vertical-align: middle;\n",
       "    }\n",
       "\n",
       "    .dataframe tbody tr th {\n",
       "        vertical-align: top;\n",
       "    }\n",
       "\n",
       "    .dataframe thead th {\n",
       "        text-align: right;\n",
       "    }\n",
       "</style>\n",
       "<table border=\"1\" class=\"dataframe\">\n",
       "  <thead>\n",
       "    <tr style=\"text-align: right;\">\n",
       "      <th></th>\n",
       "      <th>High</th>\n",
       "      <th>Median</th>\n",
       "      <th>Low</th>\n",
       "    </tr>\n",
       "  </thead>\n",
       "  <tbody>\n",
       "    <tr>\n",
       "      <th>Multiple</th>\n",
       "      <td>13</td>\n",
       "      <td>5.000000e+00</td>\n",
       "      <td>2</td>\n",
       "    </tr>\n",
       "    <tr>\n",
       "      <th>Implied Valuation</th>\n",
       "      <td>45500000000</td>\n",
       "      <td>1.750000e+10</td>\n",
       "      <td>7000000000</td>\n",
       "    </tr>\n",
       "  </tbody>\n",
       "</table>\n",
       "</div>"
      ],
      "text/plain": [
       "                          High        Median         Low\n",
       "Multiple                    13  5.000000e+00           2\n",
       "Implied Valuation  45500000000  1.750000e+10  7000000000"
      ]
     },
     "execution_count": 23,
     "metadata": {},
     "output_type": "execute_result"
    }
   ],
   "source": [
    "multiplesSummary = pd.DataFrame({'High': [multiplesHi, valHi],\n",
    "                   'Median': [multiplesMedian, valMed],\n",
    "                   'Low': [multiplesLo, valLo]},\n",
    "                  index=['Multiple', 'Implied Valuation'])\n",
    "multiplesSummary"
   ]
  },
  {
   "cell_type": "markdown",
   "id": "ec055a7d",
   "metadata": {},
   "source": [
    "<h3>Valuation Ranges<h3>"
   ]
  },
  {
   "cell_type": "code",
   "execution_count": null,
   "id": "fb69e777",
   "metadata": {},
   "outputs": [],
   "source": [
    "###additional nft ids###\n",
    "\n",
    "#mutant-ape-yacht-club\n",
    "#otherdeed-for-otherside\n",
    "#bored-ape-kennel-club\n",
    "\n",
    "#wolf-game-land\n",
    "#wolf-game\n",
    "\n",
    "#decentraland\n",
    "\n",
    "#sandbox\n",
    "\n",
    "#metahero\n",
    "#metahero-universe-core-identities\n",
    "#metahero-universe-united-planets\n",
    "\n",
    "#zed-run-legacy\n",
    "\n",
    "#decentral-games-ice\n",
    "\n",
    "#ens-ethereum-name-service"
   ]
  }
 ],
 "metadata": {
  "kernelspec": {
   "display_name": "Python 3 (ipykernel)",
   "language": "python",
   "name": "python3"
  },
  "language_info": {
   "codemirror_mode": {
    "name": "ipython",
    "version": 3
   },
   "file_extension": ".py",
   "mimetype": "text/x-python",
   "name": "python",
   "nbconvert_exporter": "python",
   "pygments_lexer": "ipython3",
   "version": "3.9.13"
  }
 },
 "nbformat": 4,
 "nbformat_minor": 5
}
