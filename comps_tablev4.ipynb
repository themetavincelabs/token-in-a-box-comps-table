{
 "cells": [
  {
   "cell_type": "code",
   "execution_count": 1,
   "id": "6b362918",
   "metadata": {},
   "outputs": [],
   "source": [
    "###IMPORT LIBRARIES###\n",
    "import matplotlib.pyplot as plt\n",
    "import numpy as np\n",
    "import pandas as pd\n",
    "#import json #json encoder\n",
    "import requests"
   ]
  },
  {
   "cell_type": "code",
   "execution_count": 13,
   "id": "6777fe81",
   "metadata": {},
   "outputs": [
    {
     "name": "stdout",
     "output_type": "stream",
     "text": [
      "200\n"
     ]
    }
   ],
   "source": [
    "response = requests.get(\"https://api.coingecko.com/api/v3/ping\")\n",
    "print(response.status_code)"
   ]
  },
  {
   "cell_type": "code",
   "execution_count": 33,
   "id": "3e8702b2",
   "metadata": {},
   "outputs": [],
   "source": [
    "#coinlist\n",
    "#https://api.coingecko.com/api/v3/coins/list"
   ]
  },
  {
   "cell_type": "code",
   "execution_count": 15,
   "id": "e9cca8b4",
   "metadata": {},
   "outputs": [
    {
     "name": "stdout",
     "output_type": "stream",
     "text": [
      "Requirement already satisfied: pycoingecko in c:\\users\\vincentramsey\\anaconda3\\lib\\site-packages (3.1.0)Note: you may need to restart the kernel to use updated packages.\n",
      "\n",
      "Requirement already satisfied: requests in c:\\users\\vincentramsey\\anaconda3\\lib\\site-packages (from pycoingecko) (2.28.1)\n",
      "Requirement already satisfied: certifi>=2017.4.17 in c:\\users\\vincentramsey\\anaconda3\\lib\\site-packages (from requests->pycoingecko) (2022.9.14)\n",
      "Requirement already satisfied: urllib3<1.27,>=1.21.1 in c:\\users\\vincentramsey\\anaconda3\\lib\\site-packages (from requests->pycoingecko) (1.26.11)\n",
      "Requirement already satisfied: idna<4,>=2.5 in c:\\users\\vincentramsey\\anaconda3\\lib\\site-packages (from requests->pycoingecko) (3.3)\n",
      "Requirement already satisfied: charset-normalizer<3,>=2 in c:\\users\\vincentramsey\\anaconda3\\lib\\site-packages (from requests->pycoingecko) (2.0.4)\n"
     ]
    }
   ],
   "source": [
    "pip install -U pycoingecko\n"
   ]
  },
  {
   "cell_type": "code",
   "execution_count": 16,
   "id": "926b61e2",
   "metadata": {},
   "outputs": [],
   "source": [
    "from pycoingecko import CoinGeckoAPI\n",
    "cg = CoinGeckoAPI() "
   ]
  },
  {
   "cell_type": "markdown",
   "id": "6939e995",
   "metadata": {},
   "source": [
    "<h3>Pull Singular Token Price<h3>"
   ]
  },
  {
   "cell_type": "code",
   "execution_count": 70,
   "id": "037cd9b9",
   "metadata": {},
   "outputs": [
    {
     "data": {
      "text/plain": [
       "{'apecoin': {'usd': 5.99}}"
      ]
     },
     "execution_count": 70,
     "metadata": {},
     "output_type": "execute_result"
    }
   ],
   "source": [
    "#pull the apecoin price dictionary\n",
    "apecoin = cg.get_price(ids='apecoin', vs_currencies='usd')\n",
    "apecoin"
   ]
  },
  {
   "cell_type": "code",
   "execution_count": 71,
   "id": "95550979",
   "metadata": {},
   "outputs": [
    {
     "name": "stdout",
     "output_type": "stream",
     "text": [
      "5.99\n"
     ]
    }
   ],
   "source": [
    "#drill into nested dictionary to isolate the price\n",
    "apecoinPrice = float(apecoin['apecoin']['usd'])\n",
    "print(apecoinPrice)"
   ]
  },
  {
   "cell_type": "markdown",
   "id": "c543fb14",
   "metadata": {},
   "source": [
    "<h3>Pull Comps Table with Market Data<h3>"
   ]
  },
  {
   "cell_type": "code",
   "execution_count": 73,
   "id": "36c232bd",
   "metadata": {},
   "outputs": [],
   "source": [
    "#pulls from /coins/markets (List all supported coins price, market cap, volume, and market related data)\n",
    "#reference json https://api.coingecko.com/api/v3/coins/markets?vs_currency=usd&ids=apecoin&order=market_cap_desc&per_page=100&page=1&sparkline=false\n",
    "coinMarketData = cg.get_coins_markets(ids='apecoin,the-sandbox,decentraland,metahero,crypto-raiders,wolf-game-wool,zed-run,decentral-games,ethereum-name-service',\n",
    "    vs_currency='usd')\n",
    "price_df = pd.DataFrame(coinMarketData)\n",
    "#rice_df.head(10)"
   ]
  },
  {
   "cell_type": "code",
   "execution_count": 67,
   "id": "2b49103b",
   "metadata": {},
   "outputs": [
    {
     "data": {
      "text/plain": [
       "6059885083"
      ]
     },
     "execution_count": 67,
     "metadata": {},
     "output_type": "execute_result"
    }
   ],
   "source": [
    "apecoinFDMC = cg.get_coins_markets(ids='apecoin', vs_currency='usd')\n",
    "apecoinFDMC = apecoinFDMC[0]['fully_diluted_valuation']\n",
    "apecoinFDMC"
   ]
  },
  {
   "cell_type": "markdown",
   "id": "5233c825",
   "metadata": {},
   "source": [
    "<h3>Trim Comps Table for Selected Data<h3>"
   ]
  },
  {
   "cell_type": "code",
   "execution_count": 64,
   "id": "2ddcf071",
   "metadata": {},
   "outputs": [
    {
     "data": {
      "text/html": [
       "<div>\n",
       "<style scoped>\n",
       "    .dataframe tbody tr th:only-of-type {\n",
       "        vertical-align: middle;\n",
       "    }\n",
       "\n",
       "    .dataframe tbody tr th {\n",
       "        vertical-align: top;\n",
       "    }\n",
       "\n",
       "    .dataframe thead th {\n",
       "        text-align: right;\n",
       "    }\n",
       "</style>\n",
       "<table border=\"1\" class=\"dataframe\">\n",
       "  <thead>\n",
       "    <tr style=\"text-align: right;\">\n",
       "      <th></th>\n",
       "      <th>name</th>\n",
       "      <th>fully_diluted_valuation</th>\n",
       "      <th>total_volume</th>\n",
       "    </tr>\n",
       "  </thead>\n",
       "  <tbody>\n",
       "    <tr>\n",
       "      <th>0</th>\n",
       "      <td>ApeCoin</td>\n",
       "      <td>5560517218</td>\n",
       "      <td>137077814</td>\n",
       "    </tr>\n",
       "    <tr>\n",
       "      <th>1</th>\n",
       "      <td>Decentraland</td>\n",
       "      <td>1570903326</td>\n",
       "      <td>164818190</td>\n",
       "    </tr>\n",
       "    <tr>\n",
       "      <th>2</th>\n",
       "      <td>The Sandbox</td>\n",
       "      <td>2088255062</td>\n",
       "      <td>131763317</td>\n",
       "    </tr>\n",
       "    <tr>\n",
       "      <th>3</th>\n",
       "      <td>Ethereum Name Service</td>\n",
       "      <td>1503076025</td>\n",
       "      <td>52002064</td>\n",
       "    </tr>\n",
       "    <tr>\n",
       "      <th>4</th>\n",
       "      <td>Metahero</td>\n",
       "      <td>48976038</td>\n",
       "      <td>735620</td>\n",
       "    </tr>\n",
       "    <tr>\n",
       "      <th>5</th>\n",
       "      <td>Decentral Games</td>\n",
       "      <td>20742169</td>\n",
       "      <td>687018</td>\n",
       "    </tr>\n",
       "    <tr>\n",
       "      <th>6</th>\n",
       "      <td>Crypto Raiders</td>\n",
       "      <td>8671175</td>\n",
       "      <td>25509</td>\n",
       "    </tr>\n",
       "    <tr>\n",
       "      <th>7</th>\n",
       "      <td>Wolf Game Wool</td>\n",
       "      <td>85360046</td>\n",
       "      <td>208148</td>\n",
       "    </tr>\n",
       "    <tr>\n",
       "      <th>8</th>\n",
       "      <td>ZED RUN</td>\n",
       "      <td>29671280</td>\n",
       "      <td>43971</td>\n",
       "    </tr>\n",
       "  </tbody>\n",
       "</table>\n",
       "</div>"
      ],
      "text/plain": [
       "                    name  fully_diluted_valuation  total_volume\n",
       "0                ApeCoin               5560517218     137077814\n",
       "1           Decentraland               1570903326     164818190\n",
       "2            The Sandbox               2088255062     131763317\n",
       "3  Ethereum Name Service               1503076025      52002064\n",
       "4               Metahero                 48976038        735620\n",
       "5        Decentral Games                 20742169        687018\n",
       "6         Crypto Raiders                  8671175         25509\n",
       "7         Wolf Game Wool                 85360046        208148\n",
       "8                ZED RUN                 29671280         43971"
      ]
     },
     "execution_count": 64,
     "metadata": {},
     "output_type": "execute_result"
    }
   ],
   "source": [
    "#select desired columns from above market data\n",
    "price_df[[\"name\",\"fully_diluted_valuation\",\"total_volume\"]]"
   ]
  },
  {
   "cell_type": "markdown",
   "id": "4167f351",
   "metadata": {},
   "source": [
    "<h3>Start to Pull NFT Collection Data<h3>"
   ]
  },
  {
   "cell_type": "code",
   "execution_count": 39,
   "id": "a2672214",
   "metadata": {},
   "outputs": [
    {
     "data": {
      "text/plain": [
       "1897803140.0"
      ]
     },
     "execution_count": 39,
     "metadata": {},
     "output_type": "execute_result"
    }
   ],
   "source": [
    "#ApeCoin NFT Build\n",
    "#Apes\n",
    "baycNFT = cg.get_nfts_by_id(id='bored-ape-yacht-club')\n",
    "baycNFT = float(baycNFT['market_cap']['usd'])\n",
    "\n",
    "#Mutants\n",
    "maycNFT = cg.get_nfts_by_id(id='mutant-ape-yacht-club')\n",
    "maycNFT = float(maycNFT['market_cap']['usd'])\n",
    "\n",
    "#Otherside\n",
    "otherNFT = cg.get_nfts_by_id(id='otherdeed-for-otherside')\n",
    "otherNFT = float(otherNFT['market_cap']['usd'])\n",
    "\n",
    "#Kennel Club\n",
    "bakcNFT = cg.get_nfts_by_id(id='bored-ape-kennel-club')\n",
    "bakcNFT = float(bakcNFT['market_cap']['usd'])\n",
    "\n",
    "totalApeCoinNFT = baycNFT + maycNFT + otherNFT + bakcNFT\n",
    "totalApeCoinNFT"
   ]
  },
  {
   "cell_type": "code",
   "execution_count": 80,
   "id": "f3a17f7b",
   "metadata": {},
   "outputs": [
    {
     "data": {
      "text/plain": [
       "3.19"
      ]
     },
     "execution_count": 80,
     "metadata": {},
     "output_type": "execute_result"
    }
   ],
   "source": [
    "#NFT Multiples\n",
    "apeMul = round(apecoinFDMC / totalApeCoinNFT,2)\n",
    "apeMul"
   ]
  },
  {
   "cell_type": "code",
   "execution_count": null,
   "id": "fb69e777",
   "metadata": {},
   "outputs": [],
   "source": [
    "###additional nft ids###\n",
    "\n",
    "#mutant-ape-yacht-club\n",
    "#otherdeed-for-otherside\n",
    "#bored-ape-kennel-club\n",
    "\n",
    "#wolf-game-land\n",
    "#wolf-game\n",
    "\n",
    "#decentraland\n",
    "\n",
    "#sandbox\n",
    "\n",
    "#metahero\n",
    "#metahero-universe-core-identities\n",
    "#metahero-universe-united-planets\n",
    "\n",
    "#zed-run-legacy\n",
    "\n",
    "#decentral-games-ice\n",
    "\n",
    "#ens-ethereum-name-service"
   ]
  },
  {
   "cell_type": "markdown",
   "id": "bfbc13c6",
   "metadata": {},
   "source": [
    "<h3>Master Combined Comps Table<h3>"
   ]
  },
  {
   "cell_type": "code",
   "execution_count": 79,
   "id": "da64c3d9",
   "metadata": {},
   "outputs": [
    {
     "data": {
      "text/html": [
       "<div>\n",
       "<style scoped>\n",
       "    .dataframe tbody tr th:only-of-type {\n",
       "        vertical-align: middle;\n",
       "    }\n",
       "\n",
       "    .dataframe tbody tr th {\n",
       "        vertical-align: top;\n",
       "    }\n",
       "\n",
       "    .dataframe thead th {\n",
       "        text-align: right;\n",
       "    }\n",
       "</style>\n",
       "<table border=\"1\" class=\"dataframe\">\n",
       "  <thead>\n",
       "    <tr style=\"text-align: right;\">\n",
       "      <th></th>\n",
       "      <th>Project</th>\n",
       "      <th>FDMC</th>\n",
       "      <th>Token Volume</th>\n",
       "      <th>NFT Collection Valuation</th>\n",
       "      <th>NFT Collection Volume</th>\n",
       "      <th>FDMC / NFT Collection Multiple(x)</th>\n",
       "    </tr>\n",
       "  </thead>\n",
       "  <tbody>\n",
       "    <tr>\n",
       "      <th>0</th>\n",
       "      <td>apecoin</td>\n",
       "      <td>6059885083</td>\n",
       "      <td>x</td>\n",
       "      <td>1897803140.0</td>\n",
       "      <td>x</td>\n",
       "      <td>3.19</td>\n",
       "    </tr>\n",
       "    <tr>\n",
       "      <th>1</th>\n",
       "      <td>the-sandbox</td>\n",
       "      <td>x</td>\n",
       "      <td>x</td>\n",
       "      <td>x</td>\n",
       "      <td>x</td>\n",
       "      <td>x</td>\n",
       "    </tr>\n",
       "    <tr>\n",
       "      <th>2</th>\n",
       "      <td>decentraland</td>\n",
       "      <td>x</td>\n",
       "      <td>x</td>\n",
       "      <td>x</td>\n",
       "      <td>x</td>\n",
       "      <td>x</td>\n",
       "    </tr>\n",
       "    <tr>\n",
       "      <th>3</th>\n",
       "      <td>metahero</td>\n",
       "      <td>x</td>\n",
       "      <td>x</td>\n",
       "      <td>x</td>\n",
       "      <td>x</td>\n",
       "      <td>x</td>\n",
       "    </tr>\n",
       "    <tr>\n",
       "      <th>4</th>\n",
       "      <td>crypto-raiders</td>\n",
       "      <td>x</td>\n",
       "      <td>x</td>\n",
       "      <td>x</td>\n",
       "      <td>x</td>\n",
       "      <td>x</td>\n",
       "    </tr>\n",
       "    <tr>\n",
       "      <th>5</th>\n",
       "      <td>wolf-game-wool</td>\n",
       "      <td>x</td>\n",
       "      <td>x</td>\n",
       "      <td>x</td>\n",
       "      <td>x</td>\n",
       "      <td>x</td>\n",
       "    </tr>\n",
       "    <tr>\n",
       "      <th>6</th>\n",
       "      <td>zed-run</td>\n",
       "      <td>x</td>\n",
       "      <td>x</td>\n",
       "      <td>x</td>\n",
       "      <td>x</td>\n",
       "      <td>x</td>\n",
       "    </tr>\n",
       "    <tr>\n",
       "      <th>7</th>\n",
       "      <td>decentral-games</td>\n",
       "      <td>x</td>\n",
       "      <td>x</td>\n",
       "      <td>x</td>\n",
       "      <td>x</td>\n",
       "      <td>x</td>\n",
       "    </tr>\n",
       "    <tr>\n",
       "      <th>8</th>\n",
       "      <td>ethereum-name-service</td>\n",
       "      <td>x</td>\n",
       "      <td>x</td>\n",
       "      <td>x</td>\n",
       "      <td>x</td>\n",
       "      <td>x</td>\n",
       "    </tr>\n",
       "  </tbody>\n",
       "</table>\n",
       "</div>"
      ],
      "text/plain": [
       "                 Project        FDMC Token Volume NFT Collection Valuation  \\\n",
       "0                apecoin  6059885083            x             1897803140.0   \n",
       "1            the-sandbox           x            x                        x   \n",
       "2           decentraland           x            x                        x   \n",
       "3               metahero           x            x                        x   \n",
       "4         crypto-raiders           x            x                        x   \n",
       "5         wolf-game-wool           x            x                        x   \n",
       "6                zed-run           x            x                        x   \n",
       "7        decentral-games           x            x                        x   \n",
       "8  ethereum-name-service           x            x                        x   \n",
       "\n",
       "  NFT Collection Volume FDMC / NFT Collection Multiple(x)  \n",
       "0                     x                              3.19  \n",
       "1                     x                                 x  \n",
       "2                     x                                 x  \n",
       "3                     x                                 x  \n",
       "4                     x                                 x  \n",
       "5                     x                                 x  \n",
       "6                     x                                 x  \n",
       "7                     x                                 x  \n",
       "8                     x                                 x  "
      ]
     },
     "execution_count": 79,
     "metadata": {},
     "output_type": "execute_result"
    }
   ],
   "source": [
    "#construct nft comps table\n",
    "nftComps = pd.DataFrame({\"Project\": ['apecoin','the-sandbox','decentraland','metahero','crypto-raiders','wolf-game-wool','zed-run','decentral-games','ethereum-name-service'],\n",
    "                        \"FDMC\":[apecoinFDMC,\"x\",\"x\",\"x\",\"x\",\"x\",\"x\",\"x\",\"x\"],\n",
    "                        \"Token Volume\":[\"x\",\"x\",\"x\",\"x\",\"x\",\"x\",\"x\",\"x\",\"x\"],\n",
    "                        \"NFT Collection Valuation\":[totalApeCoinNFT,\"x\",\"x\",\"x\",\"x\",\"x\",\"x\",\"x\",\"x\"],\n",
    "                        \"NFT Collection Volume\":[\"x\",\"x\",\"x\",\"x\",\"x\",\"x\",\"x\",\"x\",\"x\"],\n",
    "                        \"FDMC / NFT Collection Multiple(x)\":[apeMul,\"x\",\"x\",\"x\",\"x\",\"x\",\"x\",\"x\",\"x\"],\n",
    "                        })\n",
    "nftComps"
   ]
  }
 ],
 "metadata": {
  "kernelspec": {
   "display_name": "Python 3 (ipykernel)",
   "language": "python",
   "name": "python3"
  },
  "language_info": {
   "codemirror_mode": {
    "name": "ipython",
    "version": 3
   },
   "file_extension": ".py",
   "mimetype": "text/x-python",
   "name": "python",
   "nbconvert_exporter": "python",
   "pygments_lexer": "ipython3",
   "version": "3.9.13"
  }
 },
 "nbformat": 4,
 "nbformat_minor": 5
}
